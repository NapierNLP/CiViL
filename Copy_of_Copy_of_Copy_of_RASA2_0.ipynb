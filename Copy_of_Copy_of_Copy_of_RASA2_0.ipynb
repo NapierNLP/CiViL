{
 "nbformat": 4,
 "nbformat_minor": 0,
 "metadata": {
  "colab": {
   "name": "Copy of Copy of Copy of RASA2_0.ipynb",
   "provenance": [],
   "collapsed_sections": []
  },
  "kernelspec": {
   "name": "python3",
   "display_name": "Python 3"
  },
  "language_info": {
   "name": "python"
  }
 },
 "cells": [
  {
   "cell_type": "code",
   "metadata": {
    "colab": {
     "base_uri": "https://localhost:8080/"
    },
    "id": "GhYer_fitu3j",
    "outputId": "e8861a25-4ebf-45af-a009-8707974e7ba8",
    "pycharm": {
     "name": "#%%\n"
    }
   },
   "source": [
    "!pip install rasa==2.8.1"
   ],
   "execution_count": null,
   "outputs": [
    {
     "output_type": "stream",
     "name": "stdout",
     "text": [
      "Collecting rasa==2.8.1\n",
      "  Downloading rasa-2.8.1-py3-none-any.whl (765 kB)\n",
      "\u001B[K     |████████████████████████████████| 765 kB 30.8 MB/s \n",
      "\u001B[?25hRequirement already satisfied: scikit-learn<0.25,>=0.22 in /usr/local/lib/python3.7/dist-packages (from rasa==2.8.1) (0.22.2.post1)\n",
      "Requirement already satisfied: tensorflow_hub<0.13,>=0.10 in /usr/local/lib/python3.7/dist-packages (from rasa==2.8.1) (0.12.0)\n",
      "Requirement already satisfied: setuptools>=41.0.0 in /usr/local/lib/python3.7/dist-packages (from rasa==2.8.1) (57.4.0)\n",
      "Collecting jsonschema<3.3,>=3.2\n",
      "  Downloading jsonschema-3.2.0-py2.py3-none-any.whl (56 kB)\n",
      "\u001B[K     |████████████████████████████████| 56 kB 5.1 MB/s \n",
      "\u001B[?25hCollecting numpy<1.19,>=1.16\n",
      "  Downloading numpy-1.18.5-cp37-cp37m-manylinux1_x86_64.whl (20.1 MB)\n",
      "\u001B[K     |████████████████████████████████| 20.1 MB 1.8 MB/s \n",
      "\u001B[?25hRequirement already satisfied: SQLAlchemy<1.5.0,>=1.3.3 in /usr/local/lib/python3.7/dist-packages (from rasa==2.8.1) (1.4.23)\n",
      "Collecting tensorflow-estimator<2.4,>=2.3\n",
      "  Downloading tensorflow_estimator-2.3.0-py2.py3-none-any.whl (459 kB)\n",
      "\u001B[K     |████████████████████████████████| 459 kB 53.6 MB/s \n",
      "\u001B[?25hRequirement already satisfied: scipy<2.0.0,>=1.4.1 in /usr/local/lib/python3.7/dist-packages (from rasa==2.8.1) (1.4.1)\n",
      "Collecting sanic-cors<0.11.0,>=0.10.0b1\n",
      "  Downloading Sanic_Cors-0.10.0.post3-py2.py3-none-any.whl (17 kB)\n",
      "Collecting colorclass<2.3,>=2.2\n",
      "  Downloading colorclass-2.2.0.tar.gz (17 kB)\n",
      "Requirement already satisfied: matplotlib<3.4,>=3.1 in /usr/local/lib/python3.7/dist-packages (from rasa==2.8.1) (3.2.2)\n",
      "Requirement already satisfied: python-dateutil<2.9,>=2.8 in /usr/local/lib/python3.7/dist-packages (from rasa==2.8.1) (2.8.2)\n",
      "Collecting jsonpickle<2.1,>=1.3\n",
      "  Downloading jsonpickle-2.0.0-py2.py3-none-any.whl (37 kB)\n",
      "Collecting regex<2021.8,>=2020.6\n",
      "  Downloading regex-2021.7.6-cp37-cp37m-manylinux_2_17_x86_64.manylinux2014_x86_64.whl (722 kB)\n",
      "\u001B[K     |████████████████████████████████| 722 kB 38.6 MB/s \n",
      "\u001B[?25hCollecting python-engineio!=5.0.0,<6,>=4\n",
      "  Downloading python_engineio-4.2.1-py3-none-any.whl (52 kB)\n",
      "\u001B[K     |████████████████████████████████| 52 kB 835 kB/s \n",
      "\u001B[?25hCollecting tensorflow-addons<0.14,>=0.10\n",
      "  Downloading tensorflow_addons-0.13.0-cp37-cp37m-manylinux2010_x86_64.whl (679 kB)\n",
      "\u001B[K     |████████████████████████████████| 679 kB 49.6 MB/s \n",
      "\u001B[?25hCollecting aiohttp!=3.7.4.post0,<3.8,>=3.6\n",
      "  Downloading aiohttp-3.7.4-cp37-cp37m-manylinux2014_x86_64.whl (1.3 MB)\n",
      "\u001B[K     |████████████████████████████████| 1.3 MB 43.4 MB/s \n",
      "\u001B[?25hCollecting twilio<6.51,>=6.26\n",
      "  Downloading twilio-6.50.1.tar.gz (457 kB)\n",
      "\u001B[K     |████████████████████████████████| 457 kB 57.4 MB/s \n",
      "\u001B[?25hCollecting sentry-sdk<1.3.0,>=0.17.0\n",
      "  Downloading sentry_sdk-1.2.0-py2.py3-none-any.whl (133 kB)\n",
      "\u001B[K     |████████████████████████████████| 133 kB 71.0 MB/s \n",
      "\u001B[?25hCollecting webexteamssdk<1.7.0,>=1.1.1\n",
      "  Downloading webexteamssdk-1.6-py3-none-any.whl (113 kB)\n",
      "\u001B[K     |████████████████████████████████| 113 kB 68.5 MB/s \n",
      "\u001B[?25hCollecting pymongo[srv,tls]<3.11,>=3.8\n",
      "  Downloading pymongo-3.10.1-cp37-cp37m-manylinux2014_x86_64.whl (462 kB)\n",
      "\u001B[K     |████████████████████████████████| 462 kB 66.5 MB/s \n",
      "\u001B[?25hCollecting networkx<2.6,>=2.4\n",
      "  Downloading networkx-2.5.1-py3-none-any.whl (1.6 MB)\n",
      "\u001B[K     |████████████████████████████████| 1.6 MB 61.0 MB/s \n",
      "\u001B[?25hRequirement already satisfied: cloudpickle<1.7,>=1.2 in /usr/local/lib/python3.7/dist-packages (from rasa==2.8.1) (1.3.0)\n",
      "Collecting packaging<21.0,>=20.0\n",
      "  Downloading packaging-20.9-py2.py3-none-any.whl (40 kB)\n",
      "\u001B[K     |████████████████████████████████| 40 kB 6.7 MB/s \n",
      "\u001B[?25hRequirement already satisfied: absl-py<0.14,>=0.9 in /usr/local/lib/python3.7/dist-packages (from rasa==2.8.1) (0.12.0)\n",
      "Collecting pytz<2022.0,>=2019.1\n",
      "  Downloading pytz-2021.1-py2.py3-none-any.whl (510 kB)\n",
      "\u001B[K     |████████████████████████████████| 510 kB 47.9 MB/s \n",
      "\u001B[?25hRequirement already satisfied: requests<3.0,>=2.23 in /usr/local/lib/python3.7/dist-packages (from rasa==2.8.1) (2.23.0)\n",
      "Collecting questionary<1.10.0,>=1.5.1\n",
      "  Downloading questionary-1.9.0-py3-none-any.whl (32 kB)\n",
      "Collecting ruamel.yaml<0.17.0,>=0.16.5\n",
      "  Downloading ruamel.yaml-0.16.13-py2.py3-none-any.whl (111 kB)\n",
      "\u001B[K     |████████████████████████████████| 111 kB 60.8 MB/s \n",
      "\u001B[?25hRequirement already satisfied: attrs<21.3,>=19.3 in /usr/local/lib/python3.7/dist-packages (from rasa==2.8.1) (21.2.0)\n",
      "Collecting sanic<21.0.0,>=19.12.2\n",
      "  Downloading sanic-20.12.3-py3-none-any.whl (80 kB)\n",
      "\u001B[K     |████████████████████████████████| 80 kB 9.6 MB/s \n",
      "\u001B[?25hCollecting apscheduler<3.8,>=3.6\n",
      "  Downloading APScheduler-3.7.0-py2.py3-none-any.whl (59 kB)\n",
      "\u001B[K     |████████████████████████████████| 59 kB 7.6 MB/s \n",
      "\u001B[?25hCollecting mattermostwrapper<2.3,>=2.2\n",
      "  Downloading mattermostwrapper-2.2.tar.gz (2.5 kB)\n",
      "Collecting ujson<5.0,>=1.35\n",
      "  Downloading ujson-4.2.0-cp37-cp37m-manylinux_2_17_x86_64.manylinux2014_x86_64.whl (214 kB)\n",
      "\u001B[K     |████████████████████████████████| 214 kB 56.0 MB/s \n",
      "\u001B[?25hCollecting colorhash<1.1.0,>=1.0.2\n",
      "  Downloading colorhash-1.0.3-py3-none-any.whl (4.0 kB)\n",
      "Collecting boto3<2.0,>=1.12\n",
      "  Downloading boto3-1.18.46-py3-none-any.whl (131 kB)\n",
      "\u001B[K     |████████████████████████████████| 131 kB 60.8 MB/s \n",
      "\u001B[?25hCollecting pykwalify<1.9,>=1.7\n",
      "  Downloading pykwalify-1.8.0-py2.py3-none-any.whl (24 kB)\n",
      "Collecting PyJWT[crypto]<3.0.0,>=2.0.0\n",
      "  Downloading PyJWT-2.1.0-py3-none-any.whl (16 kB)\n",
      "Collecting aio-pika<7.0.0,>=6.7.1\n",
      "  Downloading aio_pika-6.8.0-py3-none-any.whl (42 kB)\n",
      "\u001B[K     |████████████████████████████████| 42 kB 997 kB/s \n",
      "\u001B[?25hCollecting python-socketio<6,>=4.4\n",
      "  Downloading python_socketio-5.4.0-py3-none-any.whl (55 kB)\n",
      "\u001B[K     |████████████████████████████████| 55 kB 3.6 MB/s \n",
      "\u001B[?25hCollecting tensorflow<2.4,>=2.3\n",
      "  Downloading tensorflow-2.3.4-cp37-cp37m-manylinux2010_x86_64.whl (320.6 MB)\n",
      "\u001B[K     |████████████████████████████████| 320.6 MB 49 kB/s \n",
      "\u001B[?25hRequirement already satisfied: tensorflow-probability<0.14,>=0.11 in /usr/local/lib/python3.7/dist-packages (from rasa==2.8.1) (0.13.0)\n",
      "Collecting pyTelegramBotAPI<4.0.0,>=3.7.3\n",
      "  Downloading pyTelegramBotAPI-3.8.3.tar.gz (104 kB)\n",
      "\u001B[K     |████████████████████████████████| 104 kB 75.8 MB/s \n",
      "\u001B[?25hCollecting kafka-python<3.0,>=1.4\n",
      "  Downloading kafka_python-2.0.2-py2.py3-none-any.whl (246 kB)\n",
      "\u001B[K     |████████████████████████████████| 246 kB 69.4 MB/s \n",
      "\u001B[?25hRequirement already satisfied: tqdm<5.0,>=4.31 in /usr/local/lib/python3.7/dist-packages (from rasa==2.8.1) (4.62.2)\n",
      "Collecting rasa-sdk<3.0.0,>=2.8.1\n",
      "  Downloading rasa_sdk-2.8.2-py3-none-any.whl (43 kB)\n",
      "\u001B[K     |████████████████████████████████| 43 kB 2.3 MB/s \n",
      "\u001B[?25hCollecting prompt-toolkit<3.0,>=2.0\n",
      "  Downloading prompt_toolkit-2.0.10-py3-none-any.whl (340 kB)\n",
      "\u001B[K     |████████████████████████████████| 340 kB 77.9 MB/s \n",
      "\u001B[?25hCollecting redis<4.0,>=3.4\n",
      "  Downloading redis-3.5.3-py2.py3-none-any.whl (72 kB)\n",
      "\u001B[K     |████████████████████████████████| 72 kB 639 kB/s \n",
      "\u001B[?25hCollecting tensorflow-text<2.4,>=2.3\n",
      "  Downloading tensorflow_text-2.3.0-cp37-cp37m-manylinux1_x86_64.whl (2.6 MB)\n",
      "\u001B[K     |████████████████████████████████| 2.6 MB 32.2 MB/s \n",
      "\u001B[?25hCollecting rocketchat_API<1.17.0,>=0.6.31\n",
      "  Downloading rocketchat_API-1.16.0-py3-none-any.whl (18 kB)\n",
      "Collecting sklearn-crfsuite<0.4,>=0.3\n",
      "  Downloading sklearn_crfsuite-0.3.6-py2.py3-none-any.whl (12 kB)\n",
      "Collecting pydot<1.5,>=1.4\n",
      "  Downloading pydot-1.4.2-py2.py3-none-any.whl (21 kB)\n",
      "Collecting sanic-jwt<2.0,>=1.3.2\n",
      "  Downloading sanic_jwt-1.7.0-py3-none-any.whl (23 kB)\n",
      "Collecting psycopg2-binary<2.10.0,>=2.8.2\n",
      "  Downloading psycopg2_binary-2.9.1-cp37-cp37m-manylinux_2_17_x86_64.manylinux2014_x86_64.whl (3.4 MB)\n",
      "\u001B[K     |████████████████████████████████| 3.4 MB 27.3 MB/s \n",
      "\u001B[?25hCollecting async_generator<1.11,>=1.10\n",
      "  Downloading async_generator-1.10-py3-none-any.whl (18 kB)\n",
      "Collecting slackclient<3.0.0,>=2.0.0\n",
      "  Downloading slackclient-2.9.3-py2.py3-none-any.whl (96 kB)\n",
      "\u001B[K     |████████████████████████████████| 96 kB 7.3 MB/s \n",
      "\u001B[?25hCollecting terminaltables<3.2.0,>=3.1.0\n",
      "  Downloading terminaltables-3.1.0.tar.gz (12 kB)\n",
      "Requirement already satisfied: joblib<1.1.0,>=0.15.1 in /usr/local/lib/python3.7/dist-packages (from rasa==2.8.1) (1.0.1)\n",
      "Collecting coloredlogs<16,>=10\n",
      "  Downloading coloredlogs-15.0.1-py2.py3-none-any.whl (46 kB)\n",
      "\u001B[K     |████████████████████████████████| 46 kB 4.7 MB/s \n",
      "\u001B[?25hCollecting fbmessenger<6.1.0,>=6.0.0\n",
      "  Downloading fbmessenger-6.0.0-py2.py3-none-any.whl (11 kB)\n",
      "Requirement already satisfied: oauth2client==4.1.3 in /usr/local/lib/python3.7/dist-packages (from rasa==2.8.1) (4.1.3)\n",
      "Requirement already satisfied: rsa>=3.1.4 in /usr/local/lib/python3.7/dist-packages (from oauth2client==4.1.3->rasa==2.8.1) (4.7.2)\n",
      "Requirement already satisfied: httplib2>=0.9.1 in /usr/local/lib/python3.7/dist-packages (from oauth2client==4.1.3->rasa==2.8.1) (0.17.4)\n",
      "Requirement already satisfied: pyasn1>=0.1.7 in /usr/local/lib/python3.7/dist-packages (from oauth2client==4.1.3->rasa==2.8.1) (0.4.8)\n",
      "Requirement already satisfied: pyasn1-modules>=0.0.5 in /usr/local/lib/python3.7/dist-packages (from oauth2client==4.1.3->rasa==2.8.1) (0.2.8)\n",
      "Requirement already satisfied: six>=1.6.1 in /usr/local/lib/python3.7/dist-packages (from oauth2client==4.1.3->rasa==2.8.1) (1.15.0)\n",
      "Collecting yarl\n",
      "  Downloading yarl-1.6.3-cp37-cp37m-manylinux2014_x86_64.whl (294 kB)\n",
      "\u001B[K     |████████████████████████████████| 294 kB 75.2 MB/s \n",
      "\u001B[?25hCollecting aiormq<4,>=3.2.3\n",
      "  Downloading aiormq-3.3.1-py3-none-any.whl (28 kB)\n",
      "Requirement already satisfied: chardet<4.0,>=2.0 in /usr/local/lib/python3.7/dist-packages (from aiohttp!=3.7.4.post0,<3.8,>=3.6->rasa==2.8.1) (3.0.4)\n",
      "Collecting multidict<7.0,>=4.5\n",
      "  Downloading multidict-5.1.0-cp37-cp37m-manylinux2014_x86_64.whl (142 kB)\n",
      "\u001B[K     |████████████████████████████████| 142 kB 60.2 MB/s \n",
      "\u001B[?25hRequirement already satisfied: typing-extensions>=3.6.5 in /usr/local/lib/python3.7/dist-packages (from aiohttp!=3.7.4.post0,<3.8,>=3.6->rasa==2.8.1) (3.7.4.3)\n",
      "Collecting async-timeout<4.0,>=3.0\n",
      "  Downloading async_timeout-3.0.1-py3-none-any.whl (8.2 kB)\n",
      "Collecting pamqp==2.3.0\n",
      "  Downloading pamqp-2.3.0-py2.py3-none-any.whl (28 kB)\n",
      "Collecting tzlocal~=2.0\n",
      "  Downloading tzlocal-2.1-py2.py3-none-any.whl (16 kB)\n",
      "Collecting jmespath<1.0.0,>=0.7.1\n",
      "  Downloading jmespath-0.10.0-py2.py3-none-any.whl (24 kB)\n",
      "Collecting botocore<1.22.0,>=1.21.46\n",
      "  Downloading botocore-1.21.46-py3-none-any.whl (7.9 MB)\n",
      "\u001B[K     |████████████████████████████████| 7.9 MB 27.2 MB/s \n",
      "\u001B[?25hCollecting s3transfer<0.6.0,>=0.5.0\n",
      "  Downloading s3transfer-0.5.0-py3-none-any.whl (79 kB)\n",
      "\u001B[K     |████████████████████████████████| 79 kB 8.7 MB/s \n",
      "\u001B[?25hCollecting urllib3<1.27,>=1.25.4\n",
      "  Downloading urllib3-1.26.7-py2.py3-none-any.whl (138 kB)\n",
      "\u001B[K     |████████████████████████████████| 138 kB 60.9 MB/s \n",
      "\u001B[?25hCollecting humanfriendly>=9.1\n",
      "  Downloading humanfriendly-10.0-py2.py3-none-any.whl (86 kB)\n",
      "\u001B[K     |████████████████████████████████| 86 kB 6.6 MB/s \n",
      "\u001B[?25hRequirement already satisfied: importlib-metadata in /usr/local/lib/python3.7/dist-packages (from jsonpickle<2.1,>=1.3->rasa==2.8.1) (4.8.1)\n",
      "Requirement already satisfied: pyrsistent>=0.14.0 in /usr/local/lib/python3.7/dist-packages (from jsonschema<3.3,>=3.2->rasa==2.8.1) (0.18.0)\n",
      "Requirement already satisfied: pyparsing!=2.0.4,!=2.1.2,!=2.1.6,>=2.0.1 in /usr/local/lib/python3.7/dist-packages (from matplotlib<3.4,>=3.1->rasa==2.8.1) (2.4.7)\n",
      "Requirement already satisfied: kiwisolver>=1.0.1 in /usr/local/lib/python3.7/dist-packages (from matplotlib<3.4,>=3.1->rasa==2.8.1) (1.3.2)\n",
      "Requirement already satisfied: cycler>=0.10 in /usr/local/lib/python3.7/dist-packages (from matplotlib<3.4,>=3.1->rasa==2.8.1) (0.10.0)\n",
      "Requirement already satisfied: decorator<5,>=4.3 in /usr/local/lib/python3.7/dist-packages (from networkx<2.6,>=2.4->rasa==2.8.1) (4.4.2)\n",
      "Requirement already satisfied: wcwidth in /usr/local/lib/python3.7/dist-packages (from prompt-toolkit<3.0,>=2.0->rasa==2.8.1) (0.2.5)\n",
      "Collecting cryptography<4.0.0,>=3.3.1\n",
      "  Downloading cryptography-3.4.8-cp36-abi3-manylinux_2_24_x86_64.whl (3.0 MB)\n",
      "\u001B[K     |████████████████████████████████| 3.0 MB 45.5 MB/s \n",
      "\u001B[?25hRequirement already satisfied: cffi>=1.12 in /usr/local/lib/python3.7/dist-packages (from cryptography<4.0.0,>=3.3.1->PyJWT[crypto]<3.0.0,>=2.0.0->rasa==2.8.1) (1.14.6)\n",
      "Requirement already satisfied: pycparser in /usr/local/lib/python3.7/dist-packages (from cffi>=1.12->cryptography<4.0.0,>=3.3.1->PyJWT[crypto]<3.0.0,>=2.0.0->rasa==2.8.1) (2.20)\n",
      "Requirement already satisfied: docopt>=0.6.2 in /usr/local/lib/python3.7/dist-packages (from pykwalify<1.9,>=1.7->rasa==2.8.1) (0.6.2)\n",
      "Collecting dnspython<2.0.0,>=1.16.0\n",
      "  Downloading dnspython-1.16.0-py2.py3-none-any.whl (188 kB)\n",
      "\u001B[K     |████████████████████████████████| 188 kB 75.5 MB/s \n",
      "\u001B[?25hCollecting bidict>=0.21.0\n",
      "  Downloading bidict-0.21.3-py3-none-any.whl (36 kB)\n",
      "Collecting uvloop<0.15.0\n",
      "  Downloading uvloop-0.14.0-cp37-cp37m-manylinux2010_x86_64.whl (3.8 MB)\n",
      "\u001B[K     |████████████████████████████████| 3.8 MB 61.7 MB/s \n",
      "\u001B[?25hRequirement already satisfied: idna<3,>=2.5 in /usr/local/lib/python3.7/dist-packages (from requests<3.0,>=2.23->rasa==2.8.1) (2.10)\n",
      "Collecting requests<3.0,>=2.23\n",
      "  Downloading requests-2.25.1-py2.py3-none-any.whl (61 kB)\n",
      "\u001B[K     |████████████████████████████████| 61 kB 9.2 MB/s \n",
      "\u001B[?25hRequirement already satisfied: certifi>=2017.4.17 in /usr/local/lib/python3.7/dist-packages (from requests<3.0,>=2.23->rasa==2.8.1) (2021.5.30)\n",
      "Collecting ruamel.yaml.clib>=0.1.2\n",
      "  Downloading ruamel.yaml.clib-0.2.6-cp37-cp37m-manylinux1_x86_64.whl (546 kB)\n",
      "\u001B[K     |████████████████████████████████| 546 kB 65.0 MB/s \n",
      "\u001B[?25hCollecting httptools>=0.0.10\n",
      "  Downloading httptools-0.3.0-cp37-cp37m-manylinux_2_5_x86_64.manylinux1_x86_64.manylinux_2_12_x86_64.manylinux2010_x86_64.whl (402 kB)\n",
      "\u001B[K     |████████████████████████████████| 402 kB 72.2 MB/s \n",
      "\u001B[?25hCollecting aiofiles>=0.6.0\n",
      "  Downloading aiofiles-0.7.0-py3-none-any.whl (13 kB)\n",
      "Collecting httpx==0.15.4\n",
      "  Downloading httpx-0.15.4-py3-none-any.whl (65 kB)\n",
      "\u001B[K     |████████████████████████████████| 65 kB 4.1 MB/s \n",
      "\u001B[?25hCollecting websockets<9.0,>=8.1\n",
      "  Downloading websockets-8.1-cp37-cp37m-manylinux2010_x86_64.whl (79 kB)\n",
      "\u001B[K     |████████████████████████████████| 79 kB 8.5 MB/s \n",
      "\u001B[?25hCollecting httpcore==0.11.*\n",
      "  Downloading httpcore-0.11.1-py3-none-any.whl (52 kB)\n",
      "\u001B[K     |████████████████████████████████| 52 kB 1.5 MB/s \n",
      "\u001B[?25hCollecting rfc3986[idna2008]<2,>=1.3\n",
      "  Downloading rfc3986-1.5.0-py2.py3-none-any.whl (31 kB)\n",
      "Collecting sniffio\n",
      "  Downloading sniffio-1.2.0-py3-none-any.whl (10 kB)\n",
      "Collecting h11<0.10,>=0.8\n",
      "  Downloading h11-0.9.0-py2.py3-none-any.whl (53 kB)\n",
      "\u001B[K     |████████████████████████████████| 53 kB 2.7 MB/s \n",
      "\u001B[?25hCollecting sanic-plugins-framework>=0.9.0\n",
      "  Downloading Sanic_Plugins_Framework-0.9.5-py2.py3-none-any.whl (23 kB)\n",
      "Requirement already satisfied: tabulate in /usr/local/lib/python3.7/dist-packages (from sklearn-crfsuite<0.4,>=0.3->rasa==2.8.1) (0.8.9)\n",
      "Collecting python-crfsuite>=0.8.3\n",
      "  Downloading python_crfsuite-0.9.7-cp37-cp37m-manylinux1_x86_64.whl (743 kB)\n",
      "\u001B[K     |████████████████████████████████| 743 kB 63.6 MB/s \n",
      "\u001B[?25hRequirement already satisfied: greenlet!=0.4.17 in /usr/local/lib/python3.7/dist-packages (from SQLAlchemy<1.5.0,>=1.3.3->rasa==2.8.1) (1.1.1)\n",
      "Requirement already satisfied: termcolor>=1.1.0 in /usr/local/lib/python3.7/dist-packages (from tensorflow<2.4,>=2.3->rasa==2.8.1) (1.1.0)\n",
      "Collecting gast==0.3.3\n",
      "  Downloading gast-0.3.3-py2.py3-none-any.whl (9.7 kB)\n",
      "Requirement already satisfied: protobuf>=3.9.2 in /usr/local/lib/python3.7/dist-packages (from tensorflow<2.4,>=2.3->rasa==2.8.1) (3.17.3)\n",
      "Requirement already satisfied: google-pasta>=0.1.8 in /usr/local/lib/python3.7/dist-packages (from tensorflow<2.4,>=2.3->rasa==2.8.1) (0.2.0)\n",
      "Requirement already satisfied: tensorboard<3,>=2.3.0 in /usr/local/lib/python3.7/dist-packages (from tensorflow<2.4,>=2.3->rasa==2.8.1) (2.6.0)\n",
      "Requirement already satisfied: grpcio>=1.8.6 in /usr/local/lib/python3.7/dist-packages (from tensorflow<2.4,>=2.3->rasa==2.8.1) (1.40.0)\n",
      "Collecting h5py<2.11.0,>=2.10.0\n",
      "  Downloading h5py-2.10.0-cp37-cp37m-manylinux1_x86_64.whl (2.9 MB)\n",
      "\u001B[K     |████████████████████████████████| 2.9 MB 23.8 MB/s \n",
      "\u001B[?25hRequirement already satisfied: wheel>=0.26 in /usr/local/lib/python3.7/dist-packages (from tensorflow<2.4,>=2.3->rasa==2.8.1) (0.37.0)\n",
      "Requirement already satisfied: astunparse==1.6.3 in /usr/local/lib/python3.7/dist-packages (from tensorflow<2.4,>=2.3->rasa==2.8.1) (1.6.3)\n",
      "Requirement already satisfied: wrapt>=1.11.1 in /usr/local/lib/python3.7/dist-packages (from tensorflow<2.4,>=2.3->rasa==2.8.1) (1.12.1)\n",
      "Requirement already satisfied: opt-einsum>=2.3.2 in /usr/local/lib/python3.7/dist-packages (from tensorflow<2.4,>=2.3->rasa==2.8.1) (3.3.0)\n",
      "Requirement already satisfied: keras-preprocessing<1.2,>=1.1.1 in /usr/local/lib/python3.7/dist-packages (from tensorflow<2.4,>=2.3->rasa==2.8.1) (1.1.2)\n",
      "Requirement already satisfied: markdown>=2.6.8 in /usr/local/lib/python3.7/dist-packages (from tensorboard<3,>=2.3.0->tensorflow<2.4,>=2.3->rasa==2.8.1) (3.3.4)\n",
      "Requirement already satisfied: werkzeug>=0.11.15 in /usr/local/lib/python3.7/dist-packages (from tensorboard<3,>=2.3.0->tensorflow<2.4,>=2.3->rasa==2.8.1) (1.0.1)\n",
      "Requirement already satisfied: google-auth<2,>=1.6.3 in /usr/local/lib/python3.7/dist-packages (from tensorboard<3,>=2.3.0->tensorflow<2.4,>=2.3->rasa==2.8.1) (1.35.0)\n",
      "Requirement already satisfied: tensorboard-data-server<0.7.0,>=0.6.0 in /usr/local/lib/python3.7/dist-packages (from tensorboard<3,>=2.3.0->tensorflow<2.4,>=2.3->rasa==2.8.1) (0.6.1)\n",
      "Requirement already satisfied: google-auth-oauthlib<0.5,>=0.4.1 in /usr/local/lib/python3.7/dist-packages (from tensorboard<3,>=2.3.0->tensorflow<2.4,>=2.3->rasa==2.8.1) (0.4.6)\n",
      "Requirement already satisfied: tensorboard-plugin-wit>=1.6.0 in /usr/local/lib/python3.7/dist-packages (from tensorboard<3,>=2.3.0->tensorflow<2.4,>=2.3->rasa==2.8.1) (1.8.0)\n",
      "Requirement already satisfied: cachetools<5.0,>=2.0.0 in /usr/local/lib/python3.7/dist-packages (from google-auth<2,>=1.6.3->tensorboard<3,>=2.3.0->tensorflow<2.4,>=2.3->rasa==2.8.1) (4.2.2)\n",
      "Requirement already satisfied: requests-oauthlib>=0.7.0 in /usr/local/lib/python3.7/dist-packages (from google-auth-oauthlib<0.5,>=0.4.1->tensorboard<3,>=2.3.0->tensorflow<2.4,>=2.3->rasa==2.8.1) (1.3.0)\n",
      "Requirement already satisfied: oauthlib>=3.0.0 in /usr/local/lib/python3.7/dist-packages (from requests-oauthlib>=0.7.0->google-auth-oauthlib<0.5,>=0.4.1->tensorboard<3,>=2.3.0->tensorflow<2.4,>=2.3->rasa==2.8.1) (3.1.1)\n",
      "Requirement already satisfied: typeguard>=2.7 in /usr/local/lib/python3.7/dist-packages (from tensorflow-addons<0.14,>=0.10->rasa==2.8.1) (2.7.1)\n",
      "Requirement already satisfied: dm-tree in /usr/local/lib/python3.7/dist-packages (from tensorflow-probability<0.14,>=0.11->rasa==2.8.1) (0.1.6)\n",
      "Collecting requests-toolbelt\n",
      "  Downloading requests_toolbelt-0.9.1-py2.py3-none-any.whl (54 kB)\n",
      "\u001B[K     |████████████████████████████████| 54 kB 2.8 MB/s \n",
      "\u001B[?25hRequirement already satisfied: future in /usr/local/lib/python3.7/dist-packages (from webexteamssdk<1.7.0,>=1.1.1->rasa==2.8.1) (0.16.0)\n",
      "Requirement already satisfied: zipp>=0.5 in /usr/local/lib/python3.7/dist-packages (from importlib-metadata->jsonpickle<2.1,>=1.3->rasa==2.8.1) (3.5.0)\n",
      "Building wheels for collected packages: colorclass, mattermostwrapper, pyTelegramBotAPI, terminaltables, twilio\n",
      "  Building wheel for colorclass (setup.py) ... \u001B[?25l\u001B[?25hdone\n",
      "  Created wheel for colorclass: filename=colorclass-2.2.0-py3-none-any.whl size=19395 sha256=306d7680333d6b5d00fe95cafffbf105d311875d3788be8edf3986aa72805a70\n",
      "  Stored in directory: /root/.cache/pip/wheels/fe/96/67/750617a6039bb687b993830c5852beba03d777e2d5b0b06938\n",
      "  Building wheel for mattermostwrapper (setup.py) ... \u001B[?25l\u001B[?25hdone\n",
      "  Created wheel for mattermostwrapper: filename=mattermostwrapper-2.2-py3-none-any.whl size=2462 sha256=29b6feb383011e9a8b725f0c35721a9c5fc973d066dd7155dddc8cf497276de8\n",
      "  Stored in directory: /root/.cache/pip/wheels/b9/70/77/6c3f3c9a6f096f765d0767b21e73598d66c3b79cb7b09b62ad\n",
      "  Building wheel for pyTelegramBotAPI (setup.py) ... \u001B[?25l\u001B[?25hdone\n",
      "  Created wheel for pyTelegramBotAPI: filename=pyTelegramBotAPI-3.8.3-py3-none-any.whl size=79359 sha256=814199a71373c8016f77b2354723f539c543c8262586289aa947f279aa9af251\n",
      "  Stored in directory: /root/.cache/pip/wheels/9c/ac/0f/3d7f8a376c680f4605b35c6d7c2db2180fdeff4a3646d282c2\n",
      "  Building wheel for terminaltables (setup.py) ... \u001B[?25l\u001B[?25hdone\n",
      "  Created wheel for terminaltables: filename=terminaltables-3.1.0-py3-none-any.whl size=15354 sha256=6f24c459a721f21edbc10031860d78e8f4e85d0fa3af3ad8ffac98f9c2f77bbe\n",
      "  Stored in directory: /root/.cache/pip/wheels/ba/ad/c8/2d98360791161cd3db6daf6b5e730f34021fc9367d5879f497\n",
      "  Building wheel for twilio (setup.py) ... \u001B[?25l\u001B[?25hdone\n",
      "  Created wheel for twilio: filename=twilio-6.50.1-py2.py3-none-any.whl size=1208699 sha256=a33a5896759c713976f6ee0d4bceff1ae89f9fb5e34fd2d38d9eb3a01ce6a215\n",
      "  Stored in directory: /root/.cache/pip/wheels/12/35/de/537f7f674cf07861353c8e48809ccab2f657d55c8cc2d2699c\n",
      "Successfully built colorclass mattermostwrapper pyTelegramBotAPI terminaltables twilio\n",
      "Installing collected packages: urllib3, sniffio, rfc3986, h11, requests, httpcore, websockets, uvloop, ujson, multidict, httpx, httptools, aiofiles, sanic, numpy, jmespath, yarl, tensorflow-estimator, sanic-plugins-framework, ruamel.yaml.clib, pytz, pamqp, humanfriendly, h5py, gast, botocore, async-timeout, tzlocal, tensorflow, sanic-cors, s3transfer, ruamel.yaml, requests-toolbelt, python-engineio, python-crfsuite, pymongo, PyJWT, prompt-toolkit, dnspython, cryptography, coloredlogs, bidict, aiormq, aiohttp, webexteamssdk, twilio, terminaltables, tensorflow-text, tensorflow-addons, slackclient, sklearn-crfsuite, sentry-sdk, sanic-jwt, rocketchat-API, regex, redis, rasa-sdk, questionary, python-socketio, pyTelegramBotAPI, pykwalify, pydot, psycopg2-binary, packaging, networkx, mattermostwrapper, kafka-python, jsonschema, jsonpickle, fbmessenger, colorhash, colorclass, boto3, async-generator, apscheduler, aio-pika, rasa\n",
      "  Attempting uninstall: urllib3\n",
      "    Found existing installation: urllib3 1.24.3\n",
      "    Uninstalling urllib3-1.24.3:\n",
      "      Successfully uninstalled urllib3-1.24.3\n",
      "  Attempting uninstall: requests\n",
      "    Found existing installation: requests 2.23.0\n",
      "    Uninstalling requests-2.23.0:\n",
      "      Successfully uninstalled requests-2.23.0\n",
      "  Attempting uninstall: numpy\n",
      "    Found existing installation: numpy 1.19.5\n",
      "    Uninstalling numpy-1.19.5:\n",
      "      Successfully uninstalled numpy-1.19.5\n",
      "  Attempting uninstall: tensorflow-estimator\n",
      "    Found existing installation: tensorflow-estimator 2.6.0\n",
      "    Uninstalling tensorflow-estimator-2.6.0:\n",
      "      Successfully uninstalled tensorflow-estimator-2.6.0\n",
      "  Attempting uninstall: pytz\n",
      "    Found existing installation: pytz 2018.9\n",
      "    Uninstalling pytz-2018.9:\n",
      "      Successfully uninstalled pytz-2018.9\n",
      "  Attempting uninstall: h5py\n",
      "    Found existing installation: h5py 3.1.0\n",
      "    Uninstalling h5py-3.1.0:\n",
      "      Successfully uninstalled h5py-3.1.0\n",
      "  Attempting uninstall: gast\n",
      "    Found existing installation: gast 0.4.0\n",
      "    Uninstalling gast-0.4.0:\n",
      "      Successfully uninstalled gast-0.4.0\n",
      "  Attempting uninstall: tzlocal\n",
      "    Found existing installation: tzlocal 1.5.1\n",
      "    Uninstalling tzlocal-1.5.1:\n",
      "      Successfully uninstalled tzlocal-1.5.1\n",
      "  Attempting uninstall: tensorflow\n",
      "    Found existing installation: tensorflow 2.6.0\n",
      "    Uninstalling tensorflow-2.6.0:\n",
      "      Successfully uninstalled tensorflow-2.6.0\n",
      "  Attempting uninstall: pymongo\n",
      "    Found existing installation: pymongo 3.12.0\n",
      "    Uninstalling pymongo-3.12.0:\n",
      "      Successfully uninstalled pymongo-3.12.0\n",
      "  Attempting uninstall: prompt-toolkit\n",
      "    Found existing installation: prompt-toolkit 1.0.18\n",
      "    Uninstalling prompt-toolkit-1.0.18:\n",
      "      Successfully uninstalled prompt-toolkit-1.0.18\n",
      "  Attempting uninstall: regex\n",
      "    Found existing installation: regex 2019.12.20\n",
      "    Uninstalling regex-2019.12.20:\n",
      "      Successfully uninstalled regex-2019.12.20\n",
      "  Attempting uninstall: pydot\n",
      "    Found existing installation: pydot 1.3.0\n",
      "    Uninstalling pydot-1.3.0:\n",
      "      Successfully uninstalled pydot-1.3.0\n",
      "  Attempting uninstall: packaging\n",
      "    Found existing installation: packaging 21.0\n",
      "    Uninstalling packaging-21.0:\n",
      "      Successfully uninstalled packaging-21.0\n",
      "  Attempting uninstall: networkx\n",
      "    Found existing installation: networkx 2.6.3\n",
      "    Uninstalling networkx-2.6.3:\n",
      "      Successfully uninstalled networkx-2.6.3\n",
      "  Attempting uninstall: jsonschema\n",
      "    Found existing installation: jsonschema 2.6.0\n",
      "    Uninstalling jsonschema-2.6.0:\n",
      "      Successfully uninstalled jsonschema-2.6.0\n",
      "\u001B[31mERROR: pip's dependency resolver does not currently take into account all the packages that are installed. This behaviour is the source of the following dependency conflicts.\n",
      "nbclient 0.5.4 requires jupyter-client>=6.1.5, but you have jupyter-client 5.3.5 which is incompatible.\n",
      "jupyter-console 5.2.0 requires prompt-toolkit<2.0.0,>=1.0.0, but you have prompt-toolkit 2.0.10 which is incompatible.\n",
      "ipython 5.5.0 requires prompt-toolkit<2.0.0,>=1.0.4, but you have prompt-toolkit 2.0.10 which is incompatible.\n",
      "google-colab 1.0.0 requires requests~=2.23.0, but you have requests 2.25.1 which is incompatible.\n",
      "datascience 0.10.6 requires folium==0.2.1, but you have folium 0.8.3 which is incompatible.\n",
      "albumentations 0.1.12 requires imgaug<0.2.7,>=0.2.5, but you have imgaug 0.2.9 which is incompatible.\u001B[0m\n",
      "Successfully installed PyJWT-2.1.0 aio-pika-6.8.0 aiofiles-0.7.0 aiohttp-3.7.4 aiormq-3.3.1 apscheduler-3.7.0 async-generator-1.10 async-timeout-3.0.1 bidict-0.21.3 boto3-1.18.46 botocore-1.21.46 colorclass-2.2.0 coloredlogs-15.0.1 colorhash-1.0.3 cryptography-3.4.8 dnspython-1.16.0 fbmessenger-6.0.0 gast-0.3.3 h11-0.9.0 h5py-2.10.0 httpcore-0.11.1 httptools-0.3.0 httpx-0.15.4 humanfriendly-10.0 jmespath-0.10.0 jsonpickle-2.0.0 jsonschema-3.2.0 kafka-python-2.0.2 mattermostwrapper-2.2 multidict-5.1.0 networkx-2.5.1 numpy-1.18.5 packaging-20.9 pamqp-2.3.0 prompt-toolkit-2.0.10 psycopg2-binary-2.9.1 pyTelegramBotAPI-3.8.3 pydot-1.4.2 pykwalify-1.8.0 pymongo-3.10.1 python-crfsuite-0.9.7 python-engineio-4.2.1 python-socketio-5.4.0 pytz-2021.1 questionary-1.9.0 rasa-2.8.1 rasa-sdk-2.8.2 redis-3.5.3 regex-2021.7.6 requests-2.25.1 requests-toolbelt-0.9.1 rfc3986-1.5.0 rocketchat-API-1.16.0 ruamel.yaml-0.16.13 ruamel.yaml.clib-0.2.6 s3transfer-0.5.0 sanic-20.12.3 sanic-cors-0.10.0.post3 sanic-jwt-1.7.0 sanic-plugins-framework-0.9.5 sentry-sdk-1.2.0 sklearn-crfsuite-0.3.6 slackclient-2.9.3 sniffio-1.2.0 tensorflow-2.3.4 tensorflow-addons-0.13.0 tensorflow-estimator-2.3.0 tensorflow-text-2.3.0 terminaltables-3.1.0 twilio-6.50.1 tzlocal-2.1 ujson-4.2.0 urllib3-1.26.7 uvloop-0.14.0 webexteamssdk-1.6 websockets-8.1 yarl-1.6.3\n"
     ]
    },
    {
     "output_type": "display_data",
     "data": {
      "application/vnd.colab-display-data+json": {
       "pip_warning": {
        "packages": [
         "numpy",
         "prompt_toolkit",
         "pytz"
        ]
       }
      }
     },
     "metadata": {}
    }
   ]
  },
  {
   "cell_type": "code",
   "metadata": {
    "id": "ph4AGPCWUWY3",
    "colab": {
     "base_uri": "https://localhost:8080/",
     "height": 671
    },
    "outputId": "a9f88d8b-3f1e-4db5-b75d-81d33ee27fc1",
    "pycharm": {
     "name": "#%%\n"
    }
   },
   "source": [
    "pip install -U ipython"
   ],
   "execution_count": null,
   "outputs": [
    {
     "output_type": "stream",
     "name": "stdout",
     "text": [
      "Requirement already satisfied: ipython in /usr/local/lib/python3.7/dist-packages (5.5.0)\n",
      "Collecting ipython\n",
      "  Downloading ipython-7.27.0-py3-none-any.whl (787 kB)\n",
      "\u001B[K     |████████████████████████████████| 787 kB 36.3 MB/s \n",
      "\u001B[?25hRequirement already satisfied: backcall in /usr/local/lib/python3.7/dist-packages (from ipython) (0.2.0)\n",
      "Requirement already satisfied: prompt-toolkit!=3.0.0,!=3.0.1,<3.1.0,>=2.0.0 in /usr/local/lib/python3.7/dist-packages (from ipython) (2.0.10)\n",
      "Requirement already satisfied: pexpect>4.3 in /usr/local/lib/python3.7/dist-packages (from ipython) (4.8.0)\n",
      "Requirement already satisfied: setuptools>=18.5 in /usr/local/lib/python3.7/dist-packages (from ipython) (57.4.0)\n",
      "Requirement already satisfied: pygments in /usr/local/lib/python3.7/dist-packages (from ipython) (2.6.1)\n",
      "Requirement already satisfied: traitlets>=4.2 in /usr/local/lib/python3.7/dist-packages (from ipython) (5.1.0)\n",
      "Requirement already satisfied: decorator in /usr/local/lib/python3.7/dist-packages (from ipython) (4.4.2)\n",
      "Requirement already satisfied: jedi>=0.16 in /usr/local/lib/python3.7/dist-packages (from ipython) (0.18.0)\n",
      "Requirement already satisfied: matplotlib-inline in /usr/local/lib/python3.7/dist-packages (from ipython) (0.1.3)\n",
      "Requirement already satisfied: pickleshare in /usr/local/lib/python3.7/dist-packages (from ipython) (0.7.5)\n",
      "Requirement already satisfied: parso<0.9.0,>=0.8.0 in /usr/local/lib/python3.7/dist-packages (from jedi>=0.16->ipython) (0.8.2)\n",
      "Requirement already satisfied: ptyprocess>=0.5 in /usr/local/lib/python3.7/dist-packages (from pexpect>4.3->ipython) (0.7.0)\n",
      "Requirement already satisfied: wcwidth in /usr/local/lib/python3.7/dist-packages (from prompt-toolkit!=3.0.0,!=3.0.1,<3.1.0,>=2.0.0->ipython) (0.2.5)\n",
      "Requirement already satisfied: six>=1.9.0 in /usr/local/lib/python3.7/dist-packages (from prompt-toolkit!=3.0.0,!=3.0.1,<3.1.0,>=2.0.0->ipython) (1.15.0)\n",
      "Installing collected packages: ipython\n",
      "  Attempting uninstall: ipython\n",
      "    Found existing installation: ipython 5.5.0\n",
      "    Uninstalling ipython-5.5.0:\n",
      "      Successfully uninstalled ipython-5.5.0\n",
      "\u001B[31mERROR: pip's dependency resolver does not currently take into account all the packages that are installed. This behaviour is the source of the following dependency conflicts.\n",
      "jupyter-console 5.2.0 requires prompt-toolkit<2.0.0,>=1.0.0, but you have prompt-toolkit 2.0.10 which is incompatible.\n",
      "google-colab 1.0.0 requires ipython~=5.5.0, but you have ipython 7.27.0 which is incompatible.\n",
      "google-colab 1.0.0 requires requests~=2.23.0, but you have requests 2.25.1 which is incompatible.\u001B[0m\n",
      "Successfully installed ipython-7.27.0\n"
     ]
    },
    {
     "output_type": "display_data",
     "data": {
      "application/vnd.colab-display-data+json": {
       "pip_warning": {
        "packages": [
         "IPython"
        ]
       }
      }
     },
     "metadata": {}
    }
   ]
  },
  {
   "cell_type": "code",
   "metadata": {
    "colab": {
     "base_uri": "https://localhost:8080/"
    },
    "id": "wAAp0RIxuTG5",
    "outputId": "4060d2bf-479b-492a-a226-167e42722e0c",
    "pycharm": {
     "name": "#%%\n"
    }
   },
   "source": [
    "!python -m spacy download en"
   ],
   "execution_count": null,
   "outputs": [
    {
     "output_type": "stream",
     "name": "stdout",
     "text": [
      "Collecting en_core_web_sm==2.2.5\n",
      "  Downloading https://github.com/explosion/spacy-models/releases/download/en_core_web_sm-2.2.5/en_core_web_sm-2.2.5.tar.gz (12.0 MB)\n",
      "\u001B[K     |████████████████████████████████| 12.0 MB 6.2 MB/s \n",
      "\u001B[?25hRequirement already satisfied: spacy>=2.2.2 in /usr/local/lib/python3.7/dist-packages (from en_core_web_sm==2.2.5) (2.2.4)\n",
      "Requirement already satisfied: numpy>=1.15.0 in /usr/local/lib/python3.7/dist-packages (from spacy>=2.2.2->en_core_web_sm==2.2.5) (1.18.5)\n",
      "Requirement already satisfied: srsly<1.1.0,>=1.0.2 in /usr/local/lib/python3.7/dist-packages (from spacy>=2.2.2->en_core_web_sm==2.2.5) (1.0.5)\n",
      "Requirement already satisfied: blis<0.5.0,>=0.4.0 in /usr/local/lib/python3.7/dist-packages (from spacy>=2.2.2->en_core_web_sm==2.2.5) (0.4.1)\n",
      "Requirement already satisfied: catalogue<1.1.0,>=0.0.7 in /usr/local/lib/python3.7/dist-packages (from spacy>=2.2.2->en_core_web_sm==2.2.5) (1.0.0)\n",
      "Requirement already satisfied: preshed<3.1.0,>=3.0.2 in /usr/local/lib/python3.7/dist-packages (from spacy>=2.2.2->en_core_web_sm==2.2.5) (3.0.5)\n",
      "Requirement already satisfied: wasabi<1.1.0,>=0.4.0 in /usr/local/lib/python3.7/dist-packages (from spacy>=2.2.2->en_core_web_sm==2.2.5) (0.8.2)\n",
      "Requirement already satisfied: murmurhash<1.1.0,>=0.28.0 in /usr/local/lib/python3.7/dist-packages (from spacy>=2.2.2->en_core_web_sm==2.2.5) (1.0.5)\n",
      "Requirement already satisfied: cymem<2.1.0,>=2.0.2 in /usr/local/lib/python3.7/dist-packages (from spacy>=2.2.2->en_core_web_sm==2.2.5) (2.0.5)\n",
      "Requirement already satisfied: plac<1.2.0,>=0.9.6 in /usr/local/lib/python3.7/dist-packages (from spacy>=2.2.2->en_core_web_sm==2.2.5) (1.1.3)\n",
      "Requirement already satisfied: setuptools in /usr/local/lib/python3.7/dist-packages (from spacy>=2.2.2->en_core_web_sm==2.2.5) (57.4.0)\n",
      "Requirement already satisfied: requests<3.0.0,>=2.13.0 in /usr/local/lib/python3.7/dist-packages (from spacy>=2.2.2->en_core_web_sm==2.2.5) (2.25.1)\n",
      "Requirement already satisfied: thinc==7.4.0 in /usr/local/lib/python3.7/dist-packages (from spacy>=2.2.2->en_core_web_sm==2.2.5) (7.4.0)\n",
      "Requirement already satisfied: tqdm<5.0.0,>=4.38.0 in /usr/local/lib/python3.7/dist-packages (from spacy>=2.2.2->en_core_web_sm==2.2.5) (4.62.2)\n",
      "Requirement already satisfied: importlib-metadata>=0.20 in /usr/local/lib/python3.7/dist-packages (from catalogue<1.1.0,>=0.0.7->spacy>=2.2.2->en_core_web_sm==2.2.5) (4.8.1)\n",
      "Requirement already satisfied: zipp>=0.5 in /usr/local/lib/python3.7/dist-packages (from importlib-metadata>=0.20->catalogue<1.1.0,>=0.0.7->spacy>=2.2.2->en_core_web_sm==2.2.5) (3.5.0)\n",
      "Requirement already satisfied: typing-extensions>=3.6.4 in /usr/local/lib/python3.7/dist-packages (from importlib-metadata>=0.20->catalogue<1.1.0,>=0.0.7->spacy>=2.2.2->en_core_web_sm==2.2.5) (3.7.4.3)\n",
      "Requirement already satisfied: chardet<5,>=3.0.2 in /usr/local/lib/python3.7/dist-packages (from requests<3.0.0,>=2.13.0->spacy>=2.2.2->en_core_web_sm==2.2.5) (3.0.4)\n",
      "Requirement already satisfied: urllib3<1.27,>=1.21.1 in /usr/local/lib/python3.7/dist-packages (from requests<3.0.0,>=2.13.0->spacy>=2.2.2->en_core_web_sm==2.2.5) (1.26.7)\n",
      "Requirement already satisfied: idna<3,>=2.5 in /usr/local/lib/python3.7/dist-packages (from requests<3.0.0,>=2.13.0->spacy>=2.2.2->en_core_web_sm==2.2.5) (2.10)\n",
      "Requirement already satisfied: certifi>=2017.4.17 in /usr/local/lib/python3.7/dist-packages (from requests<3.0.0,>=2.13.0->spacy>=2.2.2->en_core_web_sm==2.2.5) (2021.5.30)\n",
      "\u001B[38;5;2m✔ Download and installation successful\u001B[0m\n",
      "You can now load the model via spacy.load('en_core_web_sm')\n",
      "\u001B[38;5;2m✔ Linking successful\u001B[0m\n",
      "/usr/local/lib/python3.7/dist-packages/en_core_web_sm -->\n",
      "/usr/local/lib/python3.7/dist-packages/spacy/data/en\n",
      "You can now load the model via spacy.load('en')\n"
     ]
    }
   ]
  },
  {
   "cell_type": "code",
   "metadata": {
    "colab": {
     "base_uri": "https://localhost:8080/"
    },
    "id": "eT5Tn7eSwFlb",
    "outputId": "f718655e-61d2-403b-cb61-71ef7babf67b",
    "pycharm": {
     "name": "#%%\n"
    }
   },
   "source": [
    "import os\n",
    "import rasa\n",
    "import nest_asyncio\n",
    "\n",
    "nest_asyncio.apply()\n",
    "print(\"event loop ready\")"
   ],
   "execution_count": null,
   "outputs": [
    {
     "output_type": "stream",
     "name": "stdout",
     "text": [
      "event loop ready\n"
     ]
    }
   ]
  },
  {
   "cell_type": "code",
   "metadata": {
    "colab": {
     "base_uri": "https://localhost:8080/"
    },
    "id": "3gH2Q0ZO9UKx",
    "outputId": "620b5b20-7b35-4125-fcb4-ca93e8d3d121",
    "pycharm": {
     "name": "#%%\n"
    }
   },
   "source": [
    "! pwd\n"
   ],
   "execution_count": null,
   "outputs": [
    {
     "output_type": "stream",
     "name": "stdout",
     "text": [
      "/content\n"
     ]
    }
   ]
  },
  {
   "cell_type": "code",
   "metadata": {
    "id": "x70fjMFQwiNm",
    "pycharm": {
     "name": "#%%\n"
    }
   },
   "source": [
    "\n",
    "from rasa.cli.scaffold import create_initial_project"
   ],
   "execution_count": null,
   "outputs": []
  },
  {
   "cell_type": "code",
   "metadata": {
    "id": "iI7LzuHnw6_E",
    "pycharm": {
     "name": "#%%\n"
    }
   },
   "source": [
    "project = 'test_project'\n",
    "create_initial_project(project)"
   ],
   "execution_count": null,
   "outputs": []
  },
  {
   "cell_type": "code",
   "metadata": {
    "id": "Zqz-Ru8dxhip",
    "colab": {
     "base_uri": "https://localhost:8080/"
    },
    "outputId": "0b98dfba-b4b6-454d-f831-697812c764cb",
    "pycharm": {
     "name": "#%%\n"
    }
   },
   "source": [
    "os.chdir(project)\n",
    "print(os.listdir(\".\"))"
   ],
   "execution_count": null,
   "outputs": [
    {
     "output_type": "stream",
     "name": "stdout",
     "text": [
      "['config.yml', 'endpoints.yml', 'domain.yml', 'data', 'tests', 'credentials.yml', 'actions']\n"
     ]
    }
   ]
  },
  {
   "cell_type": "code",
   "metadata": {
    "id": "XIgH7zqV-dy1",
    "colab": {
     "base_uri": "https://localhost:8080/"
    },
    "outputId": "5410990c-ef95-4c0a-bdb1-d20363fccfa7",
    "pycharm": {
     "name": "#%%\n"
    }
   },
   "source": [
    "config = \"config.yml\"\n",
    "training_file = \"data/\"\n",
    "domain = \"domain.yml\"\n",
    "output = \"models/\"\n",
    "print(config, training_file, domain, output)"
   ],
   "execution_count": null,
   "outputs": [
    {
     "output_type": "stream",
     "name": "stdout",
     "text": [
      "config.yml data/ domain.yml models/\n"
     ]
    }
   ]
  },
  {
   "cell_type": "code",
   "metadata": {
    "id": "E_dI4ko8ylFZ",
    "colab": {
     "base_uri": "https://localhost:8080/",
     "height": 320
    },
    "outputId": "310aa908-f32d-4914-d7ff-b746ad51825c",
    "pycharm": {
     "name": "#%%\n"
    }
   },
   "source": [
    "model_path = rasa.train(domain, config, [training_file], output)\n",
    "print(model_path)"
   ],
   "execution_count": null,
   "outputs": [
    {
     "output_type": "error",
     "ename": "ContextualVersionConflict",
     "evalue": "ignored",
     "traceback": [
      "\u001B[0;31m---------------------------------------------------------------------------\u001B[0m",
      "\u001B[0;31mContextualVersionConflict\u001B[0m                 Traceback (most recent call last)",
      "\u001B[0;32m<ipython-input-10-bd7aec6baba4>\u001B[0m in \u001B[0;36m<module>\u001B[0;34m()\u001B[0m\n\u001B[0;32m----> 1\u001B[0;31m \u001B[0mmodel_path\u001B[0m \u001B[0;34m=\u001B[0m \u001B[0mrasa\u001B[0m\u001B[0;34m.\u001B[0m\u001B[0mtrain\u001B[0m\u001B[0;34m(\u001B[0m\u001B[0mdomain\u001B[0m\u001B[0;34m,\u001B[0m \u001B[0mconfig\u001B[0m\u001B[0;34m,\u001B[0m \u001B[0;34m[\u001B[0m\u001B[0mtraining_file\u001B[0m\u001B[0;34m]\u001B[0m\u001B[0;34m,\u001B[0m \u001B[0moutput\u001B[0m\u001B[0;34m)\u001B[0m\u001B[0;34m\u001B[0m\u001B[0;34m\u001B[0m\u001B[0m\n\u001B[0m\u001B[1;32m      2\u001B[0m \u001B[0mprint\u001B[0m\u001B[0;34m(\u001B[0m\u001B[0mmodel_path\u001B[0m\u001B[0;34m)\u001B[0m\u001B[0;34m\u001B[0m\u001B[0;34m\u001B[0m\u001B[0m\n",
      "\u001B[0;32m/usr/local/lib/python3.7/dist-packages/rasa/api.py\u001B[0m in \u001B[0;36mtrain\u001B[0;34m(domain, config, training_files, output, dry_run, force_training, fixed_model_name, persist_nlu_training_data, core_additional_arguments, nlu_additional_arguments, loop, model_to_finetune, finetuning_epoch_fraction)\u001B[0m\n\u001B[1;32m    104\u001B[0m         \u001B[0mAn\u001B[0m \u001B[0minstance\u001B[0m \u001B[0mof\u001B[0m\u001B[0;31m \u001B[0m\u001B[0;31m`\u001B[0m\u001B[0mTrainingResult\u001B[0m\u001B[0;31m`\u001B[0m\u001B[0;34m.\u001B[0m\u001B[0;34m\u001B[0m\u001B[0;34m\u001B[0m\u001B[0m\n\u001B[1;32m    105\u001B[0m     \"\"\"\n\u001B[0;32m--> 106\u001B[0;31m     \u001B[0;32mfrom\u001B[0m \u001B[0mrasa\u001B[0m\u001B[0;34m.\u001B[0m\u001B[0mmodel_training\u001B[0m \u001B[0;32mimport\u001B[0m \u001B[0mtrain_async\u001B[0m\u001B[0;34m\u001B[0m\u001B[0;34m\u001B[0m\u001B[0m\n\u001B[0m\u001B[1;32m    107\u001B[0m     \u001B[0;32mimport\u001B[0m \u001B[0mrasa\u001B[0m\u001B[0;34m.\u001B[0m\u001B[0mutils\u001B[0m\u001B[0;34m.\u001B[0m\u001B[0mcommon\u001B[0m\u001B[0;34m\u001B[0m\u001B[0;34m\u001B[0m\u001B[0m\n\u001B[1;32m    108\u001B[0m \u001B[0;34m\u001B[0m\u001B[0m\n",
      "\u001B[0;32m/usr/local/lib/python3.7/dist-packages/rasa/model_training.py\u001B[0m in \u001B[0;36m<module>\u001B[0;34m()\u001B[0m\n\u001B[1;32m     37\u001B[0m )\n\u001B[1;32m     38\u001B[0m \u001B[0;34m\u001B[0m\u001B[0m\n\u001B[0;32m---> 39\u001B[0;31m \u001B[0;32mfrom\u001B[0m \u001B[0mrasa\u001B[0m\u001B[0;34m.\u001B[0m\u001B[0mcore\u001B[0m\u001B[0;34m.\u001B[0m\u001B[0magent\u001B[0m \u001B[0;32mimport\u001B[0m \u001B[0mAgent\u001B[0m\u001B[0;34m\u001B[0m\u001B[0;34m\u001B[0m\u001B[0m\n\u001B[0m\u001B[1;32m     40\u001B[0m \u001B[0;34m\u001B[0m\u001B[0m\n\u001B[1;32m     41\u001B[0m \u001B[0mCODE_CORE_NEEDS_TO_BE_RETRAINED\u001B[0m \u001B[0;34m=\u001B[0m \u001B[0;36m0b0001\u001B[0m\u001B[0;34m\u001B[0m\u001B[0;34m\u001B[0m\u001B[0m\n",
      "\u001B[0;32m/usr/local/lib/python3.7/dist-packages/rasa/core/agent.py\u001B[0m in \u001B[0;36m<module>\u001B[0;34m()\u001B[0m\n\u001B[1;32m     13\u001B[0m \u001B[0;32mimport\u001B[0m \u001B[0mrasa\u001B[0m\u001B[0;34m\u001B[0m\u001B[0;34m\u001B[0m\u001B[0m\n\u001B[1;32m     14\u001B[0m \u001B[0;32mimport\u001B[0m \u001B[0mrasa\u001B[0m\u001B[0;34m.\u001B[0m\u001B[0mutils\u001B[0m\u001B[0;34m\u001B[0m\u001B[0;34m\u001B[0m\u001B[0m\n\u001B[0;32m---> 15\u001B[0;31m \u001B[0;32mfrom\u001B[0m \u001B[0mrasa\u001B[0m\u001B[0;34m.\u001B[0m\u001B[0mcore\u001B[0m \u001B[0;32mimport\u001B[0m \u001B[0mjobs\u001B[0m\u001B[0;34m,\u001B[0m \u001B[0mtraining\u001B[0m\u001B[0;34m\u001B[0m\u001B[0;34m\u001B[0m\u001B[0m\n\u001B[0m\u001B[1;32m     16\u001B[0m \u001B[0;32mfrom\u001B[0m \u001B[0mrasa\u001B[0m\u001B[0;34m.\u001B[0m\u001B[0mcore\u001B[0m\u001B[0;34m.\u001B[0m\u001B[0mchannels\u001B[0m\u001B[0;34m.\u001B[0m\u001B[0mchannel\u001B[0m \u001B[0;32mimport\u001B[0m \u001B[0mOutputChannel\u001B[0m\u001B[0;34m,\u001B[0m \u001B[0mUserMessage\u001B[0m\u001B[0;34m\u001B[0m\u001B[0;34m\u001B[0m\u001B[0m\n\u001B[1;32m     17\u001B[0m \u001B[0;32mfrom\u001B[0m \u001B[0mrasa\u001B[0m\u001B[0;34m.\u001B[0m\u001B[0mcore\u001B[0m\u001B[0;34m.\u001B[0m\u001B[0mconstants\u001B[0m \u001B[0;32mimport\u001B[0m \u001B[0mDEFAULT_REQUEST_TIMEOUT\u001B[0m\u001B[0;34m\u001B[0m\u001B[0;34m\u001B[0m\u001B[0m\n",
      "\u001B[0;32m/usr/local/lib/python3.7/dist-packages/rasa/core/jobs.py\u001B[0m in \u001B[0;36m<module>\u001B[0;34m()\u001B[0m\n\u001B[1;32m      2\u001B[0m \u001B[0;32mimport\u001B[0m \u001B[0mlogging\u001B[0m\u001B[0;34m\u001B[0m\u001B[0;34m\u001B[0m\u001B[0m\n\u001B[1;32m      3\u001B[0m \u001B[0;34m\u001B[0m\u001B[0m\n\u001B[0;32m----> 4\u001B[0;31m \u001B[0;32mfrom\u001B[0m \u001B[0mapscheduler\u001B[0m\u001B[0;34m.\u001B[0m\u001B[0mschedulers\u001B[0m\u001B[0;34m.\u001B[0m\u001B[0masyncio\u001B[0m \u001B[0;32mimport\u001B[0m \u001B[0mAsyncIOScheduler\u001B[0m\u001B[0;34m\u001B[0m\u001B[0;34m\u001B[0m\u001B[0m\n\u001B[0m\u001B[1;32m      5\u001B[0m \u001B[0;32mfrom\u001B[0m \u001B[0mpytz\u001B[0m \u001B[0;32mimport\u001B[0m \u001B[0mUnknownTimeZoneError\u001B[0m\u001B[0;34m,\u001B[0m \u001B[0mutc\u001B[0m\u001B[0;34m\u001B[0m\u001B[0;34m\u001B[0m\u001B[0m\n\u001B[1;32m      6\u001B[0m \u001B[0;32mimport\u001B[0m \u001B[0mrasa\u001B[0m\u001B[0;34m.\u001B[0m\u001B[0mshared\u001B[0m\u001B[0;34m.\u001B[0m\u001B[0mutils\u001B[0m\u001B[0;34m.\u001B[0m\u001B[0mio\u001B[0m\u001B[0;34m\u001B[0m\u001B[0;34m\u001B[0m\u001B[0m\n",
      "\u001B[0;32m/usr/local/lib/python3.7/dist-packages/apscheduler/__init__.py\u001B[0m in \u001B[0;36m<module>\u001B[0;34m()\u001B[0m\n\u001B[1;32m      2\u001B[0m \u001B[0;34m\u001B[0m\u001B[0m\n\u001B[1;32m      3\u001B[0m \u001B[0;32mtry\u001B[0m\u001B[0;34m:\u001B[0m\u001B[0;34m\u001B[0m\u001B[0;34m\u001B[0m\u001B[0m\n\u001B[0;32m----> 4\u001B[0;31m     \u001B[0mrelease\u001B[0m \u001B[0;34m=\u001B[0m \u001B[0mget_distribution\u001B[0m\u001B[0;34m(\u001B[0m\u001B[0;34m'APScheduler'\u001B[0m\u001B[0;34m)\u001B[0m\u001B[0;34m.\u001B[0m\u001B[0mversion\u001B[0m\u001B[0;34m.\u001B[0m\u001B[0msplit\u001B[0m\u001B[0;34m(\u001B[0m\u001B[0;34m'-'\u001B[0m\u001B[0;34m)\u001B[0m\u001B[0;34m[\u001B[0m\u001B[0;36m0\u001B[0m\u001B[0;34m]\u001B[0m\u001B[0;34m\u001B[0m\u001B[0;34m\u001B[0m\u001B[0m\n\u001B[0m\u001B[1;32m      5\u001B[0m \u001B[0;32mexcept\u001B[0m \u001B[0mDistributionNotFound\u001B[0m\u001B[0;34m:\u001B[0m\u001B[0;34m\u001B[0m\u001B[0;34m\u001B[0m\u001B[0m\n\u001B[1;32m      6\u001B[0m     \u001B[0mrelease\u001B[0m \u001B[0;34m=\u001B[0m \u001B[0;34m'3.5.0'\u001B[0m\u001B[0;34m\u001B[0m\u001B[0;34m\u001B[0m\u001B[0m\n",
      "\u001B[0;32m/usr/local/lib/python3.7/dist-packages/pkg_resources/__init__.py\u001B[0m in \u001B[0;36mget_distribution\u001B[0;34m(dist)\u001B[0m\n\u001B[1;32m    464\u001B[0m         \u001B[0mdist\u001B[0m \u001B[0;34m=\u001B[0m \u001B[0mRequirement\u001B[0m\u001B[0;34m.\u001B[0m\u001B[0mparse\u001B[0m\u001B[0;34m(\u001B[0m\u001B[0mdist\u001B[0m\u001B[0;34m)\u001B[0m\u001B[0;34m\u001B[0m\u001B[0;34m\u001B[0m\u001B[0m\n\u001B[1;32m    465\u001B[0m     \u001B[0;32mif\u001B[0m \u001B[0misinstance\u001B[0m\u001B[0;34m(\u001B[0m\u001B[0mdist\u001B[0m\u001B[0;34m,\u001B[0m \u001B[0mRequirement\u001B[0m\u001B[0;34m)\u001B[0m\u001B[0;34m:\u001B[0m\u001B[0;34m\u001B[0m\u001B[0;34m\u001B[0m\u001B[0m\n\u001B[0;32m--> 466\u001B[0;31m         \u001B[0mdist\u001B[0m \u001B[0;34m=\u001B[0m \u001B[0mget_provider\u001B[0m\u001B[0;34m(\u001B[0m\u001B[0mdist\u001B[0m\u001B[0;34m)\u001B[0m\u001B[0;34m\u001B[0m\u001B[0;34m\u001B[0m\u001B[0m\n\u001B[0m\u001B[1;32m    467\u001B[0m     \u001B[0;32mif\u001B[0m \u001B[0;32mnot\u001B[0m \u001B[0misinstance\u001B[0m\u001B[0;34m(\u001B[0m\u001B[0mdist\u001B[0m\u001B[0;34m,\u001B[0m \u001B[0mDistribution\u001B[0m\u001B[0;34m)\u001B[0m\u001B[0;34m:\u001B[0m\u001B[0;34m\u001B[0m\u001B[0;34m\u001B[0m\u001B[0m\n\u001B[1;32m    468\u001B[0m         \u001B[0;32mraise\u001B[0m \u001B[0mTypeError\u001B[0m\u001B[0;34m(\u001B[0m\u001B[0;34m\"Expected string, Requirement, or Distribution\"\u001B[0m\u001B[0;34m,\u001B[0m \u001B[0mdist\u001B[0m\u001B[0;34m)\u001B[0m\u001B[0;34m\u001B[0m\u001B[0;34m\u001B[0m\u001B[0m\n",
      "\u001B[0;32m/usr/local/lib/python3.7/dist-packages/pkg_resources/__init__.py\u001B[0m in \u001B[0;36mget_provider\u001B[0;34m(moduleOrReq)\u001B[0m\n\u001B[1;32m    340\u001B[0m     \u001B[0;34m\"\"\"Return an IResourceProvider for the named module or requirement\"\"\"\u001B[0m\u001B[0;34m\u001B[0m\u001B[0;34m\u001B[0m\u001B[0m\n\u001B[1;32m    341\u001B[0m     \u001B[0;32mif\u001B[0m \u001B[0misinstance\u001B[0m\u001B[0;34m(\u001B[0m\u001B[0mmoduleOrReq\u001B[0m\u001B[0;34m,\u001B[0m \u001B[0mRequirement\u001B[0m\u001B[0;34m)\u001B[0m\u001B[0;34m:\u001B[0m\u001B[0;34m\u001B[0m\u001B[0;34m\u001B[0m\u001B[0m\n\u001B[0;32m--> 342\u001B[0;31m         \u001B[0;32mreturn\u001B[0m \u001B[0mworking_set\u001B[0m\u001B[0;34m.\u001B[0m\u001B[0mfind\u001B[0m\u001B[0;34m(\u001B[0m\u001B[0mmoduleOrReq\u001B[0m\u001B[0;34m)\u001B[0m \u001B[0;32mor\u001B[0m \u001B[0mrequire\u001B[0m\u001B[0;34m(\u001B[0m\u001B[0mstr\u001B[0m\u001B[0;34m(\u001B[0m\u001B[0mmoduleOrReq\u001B[0m\u001B[0;34m)\u001B[0m\u001B[0;34m)\u001B[0m\u001B[0;34m[\u001B[0m\u001B[0;36m0\u001B[0m\u001B[0;34m]\u001B[0m\u001B[0;34m\u001B[0m\u001B[0;34m\u001B[0m\u001B[0m\n\u001B[0m\u001B[1;32m    343\u001B[0m     \u001B[0;32mtry\u001B[0m\u001B[0;34m:\u001B[0m\u001B[0;34m\u001B[0m\u001B[0;34m\u001B[0m\u001B[0m\n\u001B[1;32m    344\u001B[0m         \u001B[0mmodule\u001B[0m \u001B[0;34m=\u001B[0m \u001B[0msys\u001B[0m\u001B[0;34m.\u001B[0m\u001B[0mmodules\u001B[0m\u001B[0;34m[\u001B[0m\u001B[0mmoduleOrReq\u001B[0m\u001B[0;34m]\u001B[0m\u001B[0;34m\u001B[0m\u001B[0;34m\u001B[0m\u001B[0m\n",
      "\u001B[0;32m/usr/local/lib/python3.7/dist-packages/pkg_resources/__init__.py\u001B[0m in \u001B[0;36mrequire\u001B[0;34m(self, *requirements)\u001B[0m\n\u001B[1;32m    884\u001B[0m         \u001B[0mincluded\u001B[0m\u001B[0;34m,\u001B[0m \u001B[0meven\u001B[0m \u001B[0;32mif\u001B[0m \u001B[0mthey\u001B[0m \u001B[0mwere\u001B[0m \u001B[0malready\u001B[0m \u001B[0mactivated\u001B[0m \u001B[0;32min\u001B[0m \u001B[0mthis\u001B[0m \u001B[0mworking\u001B[0m \u001B[0mset\u001B[0m\u001B[0;34m.\u001B[0m\u001B[0;34m\u001B[0m\u001B[0;34m\u001B[0m\u001B[0m\n\u001B[1;32m    885\u001B[0m         \"\"\"\n\u001B[0;32m--> 886\u001B[0;31m         \u001B[0mneeded\u001B[0m \u001B[0;34m=\u001B[0m \u001B[0mself\u001B[0m\u001B[0;34m.\u001B[0m\u001B[0mresolve\u001B[0m\u001B[0;34m(\u001B[0m\u001B[0mparse_requirements\u001B[0m\u001B[0;34m(\u001B[0m\u001B[0mrequirements\u001B[0m\u001B[0;34m)\u001B[0m\u001B[0;34m)\u001B[0m\u001B[0;34m\u001B[0m\u001B[0;34m\u001B[0m\u001B[0m\n\u001B[0m\u001B[1;32m    887\u001B[0m \u001B[0;34m\u001B[0m\u001B[0m\n\u001B[1;32m    888\u001B[0m         \u001B[0;32mfor\u001B[0m \u001B[0mdist\u001B[0m \u001B[0;32min\u001B[0m \u001B[0mneeded\u001B[0m\u001B[0;34m:\u001B[0m\u001B[0;34m\u001B[0m\u001B[0;34m\u001B[0m\u001B[0m\n",
      "\u001B[0;32m/usr/local/lib/python3.7/dist-packages/pkg_resources/__init__.py\u001B[0m in \u001B[0;36mresolve\u001B[0;34m(self, requirements, env, installer, replace_conflicting, extras)\u001B[0m\n\u001B[1;32m    775\u001B[0m                 \u001B[0;31m# Oops, the \"best\" so far conflicts with a dependency\u001B[0m\u001B[0;34m\u001B[0m\u001B[0;34m\u001B[0m\u001B[0;34m\u001B[0m\u001B[0m\n\u001B[1;32m    776\u001B[0m                 \u001B[0mdependent_req\u001B[0m \u001B[0;34m=\u001B[0m \u001B[0mrequired_by\u001B[0m\u001B[0;34m[\u001B[0m\u001B[0mreq\u001B[0m\u001B[0;34m]\u001B[0m\u001B[0;34m\u001B[0m\u001B[0;34m\u001B[0m\u001B[0m\n\u001B[0;32m--> 777\u001B[0;31m                 \u001B[0;32mraise\u001B[0m \u001B[0mVersionConflict\u001B[0m\u001B[0;34m(\u001B[0m\u001B[0mdist\u001B[0m\u001B[0;34m,\u001B[0m \u001B[0mreq\u001B[0m\u001B[0;34m)\u001B[0m\u001B[0;34m.\u001B[0m\u001B[0mwith_context\u001B[0m\u001B[0;34m(\u001B[0m\u001B[0mdependent_req\u001B[0m\u001B[0;34m)\u001B[0m\u001B[0;34m\u001B[0m\u001B[0;34m\u001B[0m\u001B[0m\n\u001B[0m\u001B[1;32m    778\u001B[0m \u001B[0;34m\u001B[0m\u001B[0m\n\u001B[1;32m    779\u001B[0m             \u001B[0;31m# push the new requirements onto the stack\u001B[0m\u001B[0;34m\u001B[0m\u001B[0;34m\u001B[0m\u001B[0;34m\u001B[0m\u001B[0m\n",
      "\u001B[0;31mContextualVersionConflict\u001B[0m: (tzlocal 1.5.1 (/usr/local/lib/python3.7/dist-packages), Requirement.parse('tzlocal~=2.0'), {'APScheduler'})"
     ]
    }
   ]
  },
  {
   "cell_type": "code",
   "metadata": {
    "id": "vTJxmzkf0Hd-",
    "pycharm": {
     "name": "#%%\n"
    }
   },
   "source": [
    "from rasa.jupyter import chat\n",
    "\n",
    "endpoints = \"endpoints.yml\"\n",
    "chat(model_path, endpoints)"
   ],
   "execution_count": null,
   "outputs": []
  }
 ]
}