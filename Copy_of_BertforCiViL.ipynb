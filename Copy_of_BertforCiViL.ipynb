{
 "nbformat": 4,
 "nbformat_minor": 0,
 "metadata": {
  "colab": {
   "name": "Copy of BertforCiViL.ipynb",
   "provenance": [],
   "collapsed_sections": []
  },
  "kernelspec": {
   "name": "python3",
   "display_name": "Python 3"
  },
  "accelerator": "GPU"
 },
 "cells": [
  {
   "cell_type": "code",
   "metadata": {
    "id": "6jhTd38PTeJL",
    "colab": {
     "base_uri": "https://localhost:8080/"
    },
    "outputId": "92ffda10-d513-4578-97c3-afdf6ff7179d",
    "pycharm": {
     "name": "#%%\n"
    }
   },
   "source": [
    "!pip3 install pytorch_pretrained_bert"
   ],
   "execution_count": null,
   "outputs": [
    {
     "output_type": "stream",
     "text": [
      "Collecting pytorch_pretrained_bert\n",
      "\u001B[?25l  Downloading https://files.pythonhosted.org/packages/d7/e0/c08d5553b89973d9a240605b9c12404bcf8227590de62bae27acbcfe076b/pytorch_pretrained_bert-0.6.2-py3-none-any.whl (123kB)\n",
      "\r\u001B[K     |██▋                             | 10kB 14.9MB/s eta 0:00:01\r\u001B[K     |█████▎                          | 20kB 19.6MB/s eta 0:00:01\r\u001B[K     |████████                        | 30kB 12.3MB/s eta 0:00:01\r\u001B[K     |██████████▋                     | 40kB 9.1MB/s eta 0:00:01\r\u001B[K     |█████████████▎                  | 51kB 7.7MB/s eta 0:00:01\r\u001B[K     |███████████████▉                | 61kB 6.8MB/s eta 0:00:01\r\u001B[K     |██████████████████▌             | 71kB 7.1MB/s eta 0:00:01\r\u001B[K     |█████████████████████▏          | 81kB 7.8MB/s eta 0:00:01\r\u001B[K     |███████████████████████▉        | 92kB 8.2MB/s eta 0:00:01\r\u001B[K     |██████████████████████████▌     | 102kB 8.1MB/s eta 0:00:01\r\u001B[K     |█████████████████████████████▏  | 112kB 8.1MB/s eta 0:00:01\r\u001B[K     |███████████████████████████████▊| 122kB 8.1MB/s eta 0:00:01\r\u001B[K     |████████████████████████████████| 133kB 8.1MB/s \n",
      "\u001B[?25hRequirement already satisfied: torch>=0.4.1 in /usr/local/lib/python3.6/dist-packages (from pytorch_pretrained_bert) (1.7.0+cu101)\n",
      "Requirement already satisfied: numpy in /usr/local/lib/python3.6/dist-packages (from pytorch_pretrained_bert) (1.19.5)\n",
      "Collecting boto3\n",
      "\u001B[?25l  Downloading https://files.pythonhosted.org/packages/13/4c/e81c2f215e93a6cb5efdaa991669e3ef1ec6ecfe4407c582c3dfc7d2c281/boto3-1.16.56-py2.py3-none-any.whl (130kB)\n",
      "\u001B[K     |████████████████████████████████| 133kB 8.2MB/s \n",
      "\u001B[?25hRequirement already satisfied: regex in /usr/local/lib/python3.6/dist-packages (from pytorch_pretrained_bert) (2019.12.20)\n",
      "Requirement already satisfied: tqdm in /usr/local/lib/python3.6/dist-packages (from pytorch_pretrained_bert) (4.41.1)\n",
      "Requirement already satisfied: requests in /usr/local/lib/python3.6/dist-packages (from pytorch_pretrained_bert) (2.23.0)\n",
      "Requirement already satisfied: dataclasses in /usr/local/lib/python3.6/dist-packages (from torch>=0.4.1->pytorch_pretrained_bert) (0.8)\n",
      "Requirement already satisfied: future in /usr/local/lib/python3.6/dist-packages (from torch>=0.4.1->pytorch_pretrained_bert) (0.16.0)\n",
      "Requirement already satisfied: typing-extensions in /usr/local/lib/python3.6/dist-packages (from torch>=0.4.1->pytorch_pretrained_bert) (3.7.4.3)\n",
      "Collecting botocore<1.20.0,>=1.19.56\n",
      "\u001B[?25l  Downloading https://files.pythonhosted.org/packages/d7/72/c904c62945127699aac8aa5bbd508ec851d55da46aaf1072c061de3eb6fa/botocore-1.19.56-py2.py3-none-any.whl (7.2MB)\n",
      "\u001B[K     |████████████████████████████████| 7.2MB 10.5MB/s \n",
      "\u001B[?25hCollecting jmespath<1.0.0,>=0.7.1\n",
      "  Downloading https://files.pythonhosted.org/packages/07/cb/5f001272b6faeb23c1c9e0acc04d48eaaf5c862c17709d20e3469c6e0139/jmespath-0.10.0-py2.py3-none-any.whl\n",
      "Collecting s3transfer<0.4.0,>=0.3.0\n",
      "\u001B[?25l  Downloading https://files.pythonhosted.org/packages/ea/43/4b4a1b26eb03a429a4c37ca7fdf369d938bd60018fc194e94b8379b0c77c/s3transfer-0.3.4-py2.py3-none-any.whl (69kB)\n",
      "\u001B[K     |████████████████████████████████| 71kB 8.6MB/s \n",
      "\u001B[?25hRequirement already satisfied: chardet<4,>=3.0.2 in /usr/local/lib/python3.6/dist-packages (from requests->pytorch_pretrained_bert) (3.0.4)\n",
      "Requirement already satisfied: idna<3,>=2.5 in /usr/local/lib/python3.6/dist-packages (from requests->pytorch_pretrained_bert) (2.10)\n",
      "Requirement already satisfied: urllib3!=1.25.0,!=1.25.1,<1.26,>=1.21.1 in /usr/local/lib/python3.6/dist-packages (from requests->pytorch_pretrained_bert) (1.24.3)\n",
      "Requirement already satisfied: certifi>=2017.4.17 in /usr/local/lib/python3.6/dist-packages (from requests->pytorch_pretrained_bert) (2020.12.5)\n",
      "Requirement already satisfied: python-dateutil<3.0.0,>=2.1 in /usr/local/lib/python3.6/dist-packages (from botocore<1.20.0,>=1.19.56->boto3->pytorch_pretrained_bert) (2.8.1)\n",
      "Requirement already satisfied: six>=1.5 in /usr/local/lib/python3.6/dist-packages (from python-dateutil<3.0.0,>=2.1->botocore<1.20.0,>=1.19.56->boto3->pytorch_pretrained_bert) (1.15.0)\n",
      "\u001B[31mERROR: botocore 1.19.56 has requirement urllib3<1.27,>=1.25.4; python_version != \"3.4\", but you'll have urllib3 1.24.3 which is incompatible.\u001B[0m\n",
      "Installing collected packages: jmespath, botocore, s3transfer, boto3, pytorch-pretrained-bert\n",
      "Successfully installed boto3-1.16.56 botocore-1.19.56 jmespath-0.10.0 pytorch-pretrained-bert-0.6.2 s3transfer-0.3.4\n"
     ],
     "name": "stdout"
    }
   ]
  },
  {
   "cell_type": "code",
   "metadata": {
    "id": "S2W-F7YrTgK-",
    "pycharm": {
     "name": "#%%\n"
    }
   },
   "source": [
    "import numpy as np\n",
    "import torch\n",
    "from pytorch_pretrained_bert import BertTokenizer, BertModel, BertForMaskedLM"
   ],
   "execution_count": null,
   "outputs": []
  },
  {
   "cell_type": "code",
   "metadata": {
    "id": "a6BpUNlBTjJo",
    "colab": {
     "base_uri": "https://localhost:8080/"
    },
    "outputId": "4b124782-7b88-4f25-bc6a-ac2f0e48b5d0",
    "pycharm": {
     "name": "#%%\n"
    }
   },
   "source": [
    "# Load pre-trained model (weights)\n",
    "model_version = 'bert-base-uncased'\n",
    "model = BertForMaskedLM.from_pretrained(model_version)\n",
    "model.eval()\n",
    "cuda = torch.cuda.is_available()\n",
    "if cuda:\n",
    "    model = model.cuda()\n",
    "\n",
    "# Load pre-trained model tokenizer (vocabulary)\n",
    "tokenizer = BertTokenizer.from_pretrained(model_version, do_lower_case=model_version.endswith(\"uncased\"))\n",
    "\n",
    "def tokenize_batch(batch):\n",
    "    return [tokenizer.convert_tokens_to_ids(sent) for sent in batch]\n",
    "\n",
    "def untokenize_batch(batch):\n",
    "    return [tokenizer.convert_ids_to_tokens(sent) for sent in batch]\n",
    "\n",
    "def detokenize(sent):\n",
    "    \"\"\" Roughly detokenizes (mainly undoes wordpiece) \"\"\"\n",
    "    new_sent = []\n",
    "    for i, tok in enumerate(sent):\n",
    "        if tok.startswith(\"##\"):\n",
    "            new_sent[len(new_sent) - 1] = new_sent[len(new_sent) - 1] + tok[2:]\n",
    "        else:\n",
    "            new_sent.append(tok)\n",
    "    return new_sent\n",
    "\n",
    "CLS = '[CLS]'\n",
    "SEP = '[SEP]'\n",
    "MASK = '[MASK]'\n",
    "mask_id = tokenizer.convert_tokens_to_ids([MASK])[0]\n",
    "sep_id = tokenizer.convert_tokens_to_ids([SEP])[0]\n",
    "cls_id = tokenizer.convert_tokens_to_ids([CLS])[0]"
   ],
   "execution_count": null,
   "outputs": [
    {
     "output_type": "stream",
     "text": [
      "100%|██████████| 407873900/407873900 [00:09<00:00, 40895501.72B/s]\n",
      "100%|██████████| 231508/231508 [00:00<00:00, 929810.38B/s]\n"
     ],
     "name": "stderr"
    }
   ]
  },
  {
   "cell_type": "code",
   "metadata": {
    "id": "9TPa6BsRTulK",
    "pycharm": {
     "name": "#%%\n"
    }
   },
   "source": [
    "def generate_step(out, gen_idx, temperature=None, top_k=0, sample=False, return_list=True):\n",
    "    \"\"\" Generate a word from from out[gen_idx]\n",
    "    \n",
    "    args:\n",
    "        - out (torch.Tensor): tensor of logits of size batch_size x seq_len x vocab_size\n",
    "        - gen_idx (int): location for which to generate for\n",
    "        - top_k (int): if >0, only sample from the top k most probable words\n",
    "        - sample (Bool): if True, sample from full distribution. Overridden by top_k \n",
    "    \"\"\"\n",
    "    logits = out[:, gen_idx]\n",
    "    if temperature is not None:\n",
    "        logits = logits / temperature\n",
    "    if top_k > 0:\n",
    "        kth_vals, kth_idx = logits.topk(top_k, dim=-1)\n",
    "        dist = torch.distributions.categorical.Categorical(logits=kth_vals)\n",
    "        idx = kth_idx.gather(dim=1, index=dist.sample().unsqueeze(-1)).squeeze(-1)\n",
    "    elif sample:\n",
    "        dist = torch.distributions.categorical.Categorical(logits=logits)\n",
    "        idx = dist.sample().squeeze(-1)\n",
    "    else:\n",
    "        idx = torch.argmax(logits, dim=-1)\n",
    "    return idx.tolist() if return_list else idx\n",
    "  \n",
    "  \n",
    "def get_init_text(seed_text, max_len, batch_size = 1, rand_init=False):\n",
    "    \"\"\" Get initial sentence by padding seed_text with either masks or random words to max_len \"\"\"\n",
    "    batch = [seed_text + [MASK] * max_len + [SEP] for _ in range(batch_size)]\n",
    "    #if rand_init:\n",
    "    #    for ii in range(max_len):\n",
    "    #        init_idx[seed_len+ii] = np.random.randint(0, len(tokenizer.vocab))\n",
    "    \n",
    "    return tokenize_batch(batch)\n",
    "\n",
    "def printer(sent, should_detokenize=True):\n",
    "    if should_detokenize:\n",
    "        sent = detokenize(sent)[1:-1]\n",
    "    print(\" \".join(sent))\n"
   ],
   "execution_count": null,
   "outputs": []
  },
  {
   "cell_type": "markdown",
   "metadata": {
    "id": "0VzY3scBYc3H",
    "pycharm": {
     "name": "#%% md\n"
    }
   },
   "source": [
    "This is the meat of the algorithm. The general idea is\n",
    "1. start from all masks\n",
    "2. repeatedly pick a location, mask the token at that location, and generate from the probability distribution given by BERT\n",
    "3. stop when converged or tired of waiting\n",
    "\n",
    "We consider three \"modes\" of generating:\n",
    "- generate a single token for a position chosen uniformly at random for a chosen number of time steps\n",
    "- generate in sequential order (L->R), one token at a time\n",
    "- generate for all positions at once for a chosen number of time steps\n",
    "\n",
    "The `generate` function wraps and batches these three generation modes. In practice, we find that the first leads to the most fluent samples."
   ]
  },
  {
   "cell_type": "code",
   "metadata": {
    "id": "8BR0JVmlTvEQ",
    "pycharm": {
     "name": "#%%\n"
    }
   },
   "source": [
    "# Generation modes as functions\n",
    "import math\n",
    "import time\n",
    "\n",
    "def parallel_sequential_generation(seed_text, batch_size=10, max_len=15, top_k=0, temperature=None, max_iter=300, burnin=200,\n",
    "                                   cuda=False, print_every=10, verbose=True):\n",
    "    \"\"\" Generate for one random position at a timestep\n",
    "    \n",
    "    args:\n",
    "        - burnin: during burn-in period, sample from full distribution; afterwards take argmax\n",
    "    \"\"\"\n",
    "    seed_len = len(seed_text)\n",
    "    batch = get_init_text(seed_text, max_len, batch_size)\n",
    "    \n",
    "    for ii in range(max_iter):\n",
    "        kk = np.random.randint(0, max_len)\n",
    "        for jj in range(batch_size):\n",
    "            batch[jj][seed_len+kk] = mask_id\n",
    "        inp = torch.tensor(batch).cuda() if cuda else torch.tensor(batch)\n",
    "        out = model(inp)\n",
    "        topk = top_k if (ii >= burnin) else 0\n",
    "        idxs = generate_step(out, gen_idx=seed_len+kk, top_k=topk, temperature=temperature, sample=(ii < burnin))\n",
    "        for jj in range(batch_size):\n",
    "            batch[jj][seed_len+kk] = idxs[jj]\n",
    "            \n",
    "        if verbose and np.mod(ii+1, print_every) == 0:\n",
    "            for_print = tokenizer.convert_ids_to_tokens(batch[0])\n",
    "            for_print = for_print[:seed_len+kk+1] + ['(*)'] + for_print[seed_len+kk+1:]\n",
    "            print(\"iter\", ii+1, \" \".join(for_print))\n",
    "            \n",
    "    return untokenize_batch(batch)\n",
    "\n",
    "def parallel_generation(seed_text, batch_size=10, max_len=15, top_k=0, temperature=None, max_iter=300, sample=True, \n",
    "                        cuda=False, print_every=10, verbose=True):\n",
    "    \"\"\" Generate for all positions at each time step \"\"\"\n",
    "    seed_len = len(seed_text)\n",
    "    batch = get_init_text(seed_text, max_len, batch_size)\n",
    "    \n",
    "    for ii in range(max_iter):\n",
    "        inp = torch.tensor(batch).cuda() if cuda else torch.tensor(batch)\n",
    "        out = model(inp)\n",
    "        for kk in range(max_len):\n",
    "            idxs = generate_step(out, gen_idx=seed_len+kk, top_k=top_k, temperature=temperature, sample=sample)\n",
    "            for jj in range(batch_size):\n",
    "                batch[jj][seed_len+kk] = idxs[jj]\n",
    "            \n",
    "        if verbose and np.mod(ii, print_every) == 0:\n",
    "            print(\"iter\", ii+1, \" \".join(tokenizer.convert_ids_to_tokens(batch[0])))\n",
    "    \n",
    "    return untokenize_batch(batch)\n",
    "            \n",
    "def sequential_generation(seed_text, batch_size=10, max_len=15, leed_out_len=15, \n",
    "                          top_k=0, temperature=None, sample=True, cuda=False):\n",
    "    \"\"\" Generate one word at a time, in L->R order \"\"\"\n",
    "    seed_len = len(seed_text)\n",
    "    batch = get_init_text(seed_text, max_len, batch_size)\n",
    "    \n",
    "    for ii in range(max_len):\n",
    "        inp = [sent[:seed_len+ii+leed_out_len]+[sep_id] for sent in batch]\n",
    "        inp = torch.tensor(batch).cuda() if cuda else torch.tensor(batch)\n",
    "        out = model(inp)\n",
    "        idxs = generate_step(out, gen_idx=seed_len+ii, top_k=top_k, temperature=temperature, sample=sample)\n",
    "        for jj in range(batch_size):\n",
    "            batch[jj][seed_len+ii] = idxs[jj]\n",
    "        \n",
    "    return untokenize_batch(batch)\n",
    "\n",
    "\n",
    "def generate(n_samples, seed_text=\"[CLS]\", batch_size=10, max_len=25, \n",
    "             generation_mode=\"parallel-sequential\",\n",
    "             sample=True, top_k=100, temperature=1.0, burnin=200, max_iter=500,\n",
    "             cuda=False, print_every=1):\n",
    "    # main generation function to call\n",
    "    sentences = []\n",
    "    n_batches = math.ceil(n_samples / batch_size)\n",
    "    start_time = time.time()\n",
    "    for batch_n in range(n_batches):\n",
    "        if generation_mode == \"parallel-sequential\":\n",
    "            batch = parallel_sequential_generation(seed_text, batch_size=batch_size, max_len=max_len, top_k=top_k,\n",
    "                                                   temperature=temperature, burnin=burnin, max_iter=max_iter, \n",
    "                                                   cuda=cuda, verbose=False)\n",
    "        elif generation_mode == \"sequential\":\n",
    "            batch = sequential_generation(seed_text, batch_size=batch_size, max_len=max_len, top_k=top_k, \n",
    "                                          temperature=temperature, leed_out_len=leed_out_len, sample=sample,\n",
    "                                          cuda=cuda)\n",
    "        elif generation_mode == \"parallel\":\n",
    "            batch = parallel_generation(seed_text, batch_size=batch_size,\n",
    "                                        max_len=max_len, top_k=top_k, temperature=temperature, \n",
    "                                        sample=sample, max_iter=max_iter, \n",
    "                                        cuda=cuda, verbose=False)\n",
    "        \n",
    "        if (batch_n + 1) % print_every == 0:\n",
    "            print(\"Finished batch %d in %.3fs\" % (batch_n + 1, time.time() - start_time))\n",
    "            start_time = time.time()\n",
    "        \n",
    "        sentences += batch\n",
    "    return sentences"
   ],
   "execution_count": null,
   "outputs": []
  },
  {
   "cell_type": "markdown",
   "metadata": {
    "id": "AKLZ5U71XGv1",
    "pycharm": {
     "name": "#%% md\n"
    }
   },
   "source": [
    "Let's call the actual generation function! We'll use the following settings\n",
    "- max_len (40): length of sequence to generate\n",
    "- top_k (100): at each step, sample from the top_k most likely words\n",
    "- temperature (1.0): smoothing parameter for the next word distribution. Higher means more like uniform; lower means more peaky\n",
    "- burnin (250): for non-sequential generation, for the first burnin steps, sample from the entire next word distribution, instead of top_k\n",
    "- max_iter (500): number of iterations to run for\n",
    "- seed_text ([\"CLS\"]): prefix to generate for. We found it crucial to start with the CLS token; you can try adding to it "
   ]
  },
  {
   "cell_type": "code",
   "metadata": {
    "id": "-0So4YGiT5V_",
    "colab": {
     "base_uri": "https://localhost:8080/"
    },
    "outputId": "6f281ad9-dc37-445e-b61a-01441c5d2b45",
    "pycharm": {
     "name": "#%%\n"
    }
   },
   "source": [
    "n_samples = 5\n",
    "batch_size = 5\n",
    "max_len = 40\n",
    "top_k = 100\n",
    "temperature = 1.0\n",
    "generation_mode = \"parallel-sequential\"\n",
    "leed_out_len = 5 # max_len\n",
    "burnin = 250\n",
    "sample = True\n",
    "max_iter = 500\n",
    "\n",
    "# Choose the prefix context\n",
    "seed_text = \"[CLS]\".split()\n",
    "bert_sents = generate(n_samples, seed_text=seed_text, batch_size=batch_size, max_len=max_len,\n",
    "                      generation_mode=generation_mode,\n",
    "                      sample=sample, top_k=top_k, temperature=temperature, burnin=burnin, max_iter=max_iter,\n",
    "                      cuda=cuda)"
   ],
   "execution_count": null,
   "outputs": [
    {
     "output_type": "stream",
     "text": [
      "Finished batch 1 in 477.470s\n"
     ],
     "name": "stdout"
    }
   ]
  },
  {
   "cell_type": "code",
   "metadata": {
    "id": "MychO6GwVKVI",
    "colab": {
     "base_uri": "https://localhost:8080/"
    },
    "outputId": "9c883b82-ee0d-4410-e5fb-9827678b24dc",
    "pycharm": {
     "name": "#%%\n"
    }
   },
   "source": [
    "for sent in bert_sents:\n",
    "  printer(sent, should_detokenize=True)"
   ],
   "execution_count": null,
   "outputs": [
    {
     "output_type": "stream",
     "text": [
      "the death had never been his , not having disturbed him for some reason . still , the voice of reason invaded his thoughts . richard , the poor boy , felt at odds with big big skinny mike ;\n",
      "richey ( not racy ) ( though he managed natwick ) , tony anglesey and fred minters ( who was otherwise separate from his circle of friends ) ( joined by c . m .\n",
      "to us and everyone we loved . to him at any time of day . everyone except me and him , and matt and real matt , and real him and real me and everything we felt and smelled .\n",
      "someone who knew more about his past than his funerals told him . someone who lived strong , who had held him back the last few years of his life . and who would always regret his love .\n",
      "\" there is a lot of action here when we were coming again here . \" the knights and rhaegar were accompanying their leader from the field , red and orange banners flying for the first time .\n"
     ],
     "name": "stdout"
    }
   ]
  },
  {
   "cell_type": "markdown",
   "metadata": {
    "id": "HGNnNJf-Vm4d",
    "pycharm": {
     "name": "#%% md\n"
    }
   },
   "source": [
    "# **Evaluation**\n",
    "\n",
    "Evaluation methods for unconditional generation aren't perfect. We'll measure the diversity of our generated samples via self-BLEU: we compute corpus BLEU where for each generated sentence, we compute BLEU treating the other sentences as references. We also compute the percentage of $n$-grams that are unique among the generations. We try some other strategies, including comparing to outside models, in our report, and you can see some of the code for that [here](https://github.com/kyunghyuncho/bert-gen/blob/master/bert-babble.ipynb)."
   ]
  },
  {
   "cell_type": "code",
   "metadata": {
    "id": "vqhCiFSNVzTA",
    "pycharm": {
     "name": "#%%\n"
    }
   },
   "source": [
    "from collections import Counter\n",
    "from nltk.util import ngrams\n",
    "from nltk.translate import bleu_score as bleu\n",
    "\n",
    "def self_bleu(sents):\n",
    "    return bleu.corpus_bleu([[s for (j, s) in enumerate(sents) if j != i] for i in range(len(sents))], sents)\n",
    "\n",
    "def get_ngram_counts(sents, max_n=4):\n",
    "    size2count = {}\n",
    "    for i in range(1, max_n + 1):\n",
    "        size2count[i] = Counter([n for sent in sents for n in ngrams(sent, i)])\n",
    "    return size2count\n",
    "        \n",
    "def self_unique_ngrams(preds, max_n=4):\n",
    "    # get # of pred ngrams with count 1\n",
    "    pct_unique = {}\n",
    "    pred_ngrams = get_ngram_counts(preds, max_n)\n",
    "    for i in range(1, max_n + 1):\n",
    "        n_unique = len([k for k, v in pred_ngrams[i].items() if v == 1])\n",
    "        total = sum(pred_ngrams[i].values())\n",
    "        pct_unique[i] = n_unique / total\n",
    "    return pct_unique"
   ],
   "execution_count": null,
   "outputs": []
  },
  {
   "cell_type": "code",
   "metadata": {
    "id": "z2Lp5HgcW4of",
    "colab": {
     "base_uri": "https://localhost:8080/"
    },
    "outputId": "4562ff6d-34e3-41d6-839d-f74eb517f2e9",
    "pycharm": {
     "name": "#%%\n"
    }
   },
   "source": [
    "max_n = 4\n",
    "print(\"BERT %s self-BLEU: %.2f\" % (model_version, 100 * self_bleu(bert_sents)))\n",
    "\n",
    "pct_uniques = self_unique_ngrams(bert_sents, max_n)\n",
    "for i in range(1, max_n + 1):\n",
    "    print(\"BERT %s unique %d-grams relative to self: %.2f\" % (model_version, i, 100 * pct_uniques[i]))"
   ],
   "execution_count": null,
   "outputs": [
    {
     "output_type": "stream",
     "text": [
      "BERT bert-base-uncased self-BLEU: 28.89\n",
      "BERT bert-base-uncased unique 1-grams relative to self: 41.90\n",
      "BERT bert-base-uncased unique 2-grams relative to self: 91.71\n",
      "BERT bert-base-uncased unique 3-grams relative to self: 100.00\n",
      "BERT bert-base-uncased unique 4-grams relative to self: 100.00\n"
     ],
     "name": "stdout"
    },
    {
     "output_type": "stream",
     "text": [
      "/usr/local/lib/python3.6/dist-packages/nltk/translate/bleu_score.py:490: UserWarning: \n",
      "Corpus/Sentence contains 0 counts of 3-gram overlaps.\n",
      "BLEU scores might be undesirable; use SmoothingFunction().\n",
      "  warnings.warn(_msg)\n"
     ],
     "name": "stderr"
    }
   ]
  }
 ]
}